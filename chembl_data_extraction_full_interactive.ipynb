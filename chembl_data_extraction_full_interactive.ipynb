{
 "cells": [
  {
   "cell_type": "markdown",
   "metadata": {},
   "source": [
    "<b>[Author]</b> Nicolas Bosc\n",
    "<br><b>[Organisation]</b> EMBL-EBI\n",
    "<br><b>[Year]</b> 2022"
   ]
  },
  {
   "cell_type": "markdown",
   "metadata": {},
   "source": [
    "# Data extraction from ChEMBL\n",
    "This notebook shows how to extract bioactivity data from the ChEMBL database to get them in a model training-friendly format. <br>\n",
    "It makes use of the Python client library. <u>Therefore, it does not require a local installation of ChEMBL to run.</u>\n",
    "\n",
    "To work, it only needs a protein name (for instance COX-2). If data are found it writes a Flame format-compatible SDF file with the relevant data.\n",
    "\n",
    "<b>Note</b>: there are several ways to achieve the same result and this notebook only show one possibility. Further documentation and examples are available [here](https://chembl.gitbook.io/chembl-interface-documentation/web-services/chembl-data-web-services). For remarks and comments please contact Nicolas Bosc <nbosc@ebi.ac.uk>\n",
    "\n",
    "<i>Compared to the other notebok available in the same repo, here you </i>"
   ]
  },
  {
   "cell_type": "markdown",
   "metadata": {},
   "source": [
    "Notes: the script was tested with the following targets:\n",
    "- 5-HT2B\n",
    "- Dopamine D1 receptor\n",
    "- 5-HT1A\n",
    "- Adenosine receptor A1\n",
    "- Cyclooxygenase-2   \n",
    "- Androgen Receptor"
   ]
  },
  {
   "cell_type": "code",
   "execution_count": null,
   "metadata": {},
   "outputs": [],
   "source": []
  },
  {
   "cell_type": "code",
   "execution_count": 46,
   "metadata": {},
   "outputs": [],
   "source": [
    "# Tested with Python 3.7\n",
    "# You can install the required packages if they are not already installed. Just uncomment the next three lines.\n",
    "# import sys\n",
    "# !conda install --yes --prefix {sys.prefix} pandas ipywidgets\n",
    "# !{sys.executable} -m pip install chembl-webresource-client rdkit-pypi"
   ]
  },
  {
   "cell_type": "code",
   "execution_count": 47,
   "metadata": {},
   "outputs": [],
   "source": [
    "import pandas as pd\n",
    "from chembl_webresource_client.new_client import new_client\n",
    "import ipywidgets as w\n",
    "from IPython.display import display, Javascript\n",
    "from rdkit.Chem import PandasTools\n",
    "\n",
    "def find_target_in_chembl(widget_args, species='Homo sapiens'):\n",
    "    protein_name = widget_args.kwargs['protein']\n",
    "    # create a target query\n",
    "    target = new_client.target\n",
    "    # assume this is a 'single protein' present in the user-defined species\n",
    "    response = target.filter(target_synonym__icontains=protein_name, organism=species, target_type='SINGLE PROTEIN')\n",
    "    df_res = pd.DataFrame(response)\n",
    "    return(df_res[['pref_name','target_chembl_id','organism']])\n",
    "\n",
    "def find_activity_data(target_selection, argument):\n",
    "    '''\n",
    "    input: target selected from the list or chembl_id entered in the field\n",
    "    Look for all the bioactivity in ChEMBL for this target. Restricted to data with pchembl values (-log(IC50, Ki, Kd, EC50...))\n",
    "    Apply several sanity filters to keep only high confidence data\n",
    "    ouput: dataframe with all the activities that pass the check\n",
    "    '''\n",
    "    \n",
    "    if argument.kwargs['chembl_id'] == '':\n",
    "        target_id = target_selection.value\n",
    "    else:\n",
    "        target_id = argument.kwargs['chembl_id']\n",
    "    \n",
    "    # Create an activity query\n",
    "    activities = new_client.activity\n",
    "\n",
    "    # Select only activities with a pchembl_value (-log(IC50, Ki, Kd, EC50...).\n",
    "    # We also use the chembl flags to remove the duplicates and the records where there is a validity comment\n",
    "    response = activities.filter(target_chembl_id=target_id, pchembl_value__isnull=False,\\\n",
    "                                 potential_duplicate=False, data_validity_comment__isnull=True )\n",
    "\n",
    "    # create a dataframe with the activity data\n",
    "    df_activities = pd.DataFrame(response)\n",
    "\n",
    "    # create an assay query\n",
    "    assays = new_client.assay\n",
    "    # select assays.\n",
    "    response = assays.filter(assay_chembl_id__in=list(df_activities.assay_chembl_id.unique()))\n",
    "\n",
    "    # create a dataframe with the assay data\n",
    "    df_assays = pd.DataFrame(response)\n",
    "\n",
    "    # keep only the assays where the link between the protein target and the assay is direct\n",
    "    df_assays = df_assays[df_assays.confidence_score==9]\n",
    "\n",
    "    df_activities = df_activities[df_activities.assay_chembl_id.isin(df_assays.assay_chembl_id)]\n",
    "    df_activities = df_activities.astype({'pchembl_value':float, 'standard_value':float})\n",
    "\n",
    "    # keep only the columns you need\n",
    "    df_res = df_activities[['assay_chembl_id','assay_description','parent_molecule_chembl_id','molecule_chembl_id','canonical_smiles','pchembl_value',\\\n",
    "                   'standard_type','standard_relation','standard_value','standard_units','target_pref_name',\\\n",
    "                   'target_chembl_id', 'target_organism']]\n",
    "    print(f'{df_res.shape[0]} datapoint were found')\n",
    "    return(df_res)\n",
    "\n",
    "def remove_duplicates(df, do):\n",
    "    '''\n",
    "    if keep==True, remove duplicated data points\n",
    "    based on all the values availables for a given compound on a given target,\n",
    "    if the standard deviation < 1, then calculate the median value\n",
    "    else don't keep the values\n",
    "    '''\n",
    "    if do:\n",
    "        df_res = pd.DataFrame.copy(df)\n",
    "        for cpd_id in df['parent_molecule_chembl_id'].unique():\n",
    "            std = df[df.parent_molecule_chembl_id==cpd_id]['pchembl_value'].std()\n",
    "            if std > 1:\n",
    "                df_res = df_res[df_res.parent_molecule_chembl_id!=cpd_id]\n",
    "        pchembl_median = df_res.groupby('parent_molecule_chembl_id')['pchembl_value'].median().reset_index()['pchembl_value']\n",
    "        df_res  = df_res.drop_duplicates(['parent_molecule_chembl_id'])\n",
    "        df_res = df_res.assign(pchembl_median=pchembl_median.values).drop('pchembl_value',axis=1)\n",
    "        return(df_res)\n",
    "    else:\n",
    "        return(df)\n",
    "\n",
    "def assay_summary(df):\n",
    "    aff = df[(df.assay_description.str.contains('affinity', case=False))]['assay_chembl_id'].to_list()\n",
    "    disp = df[(df.assay_description.str.contains('displacement', case=False))]['assay_chembl_id'].to_list()\n",
    "    inhi = df[(df.assay_description.str.contains('inhibition', case=False))]['assay_chembl_id'].to_list()\n",
    "    return(pd.DataFrame({'assay_type':['affinity','displacement','inhibition'], 'data':[len(aff),len(disp),len(inhi)]}))\n",
    "\n",
    "def write_sdf(data, smiles_column, id_column, output_name):\n",
    "    PandasTools.AddMoleculeColumnToFrame(data, smiles_column)\n",
    "\n",
    "    # Uncomment the two lines below if a NoneType error appears when executing WriteSDF\n",
    "    #     no_mol = data[data['ROMol'].isna()]\n",
    "    #     data.drop(no_mol.index, axis=0, inplace=True)\n",
    "\n",
    "    # add H\n",
    "    # data.loc[:,'ROMol'] = [Chem.AddHs(x) for x in data.loc[:,'ROMol'].values.tolist()]\n",
    "\n",
    "    PandasTools.WriteSDF(data, output_name, molColName='ROMol', properties=list(data.columns), idName=id_column)"
   ]
  },
  {
   "cell_type": "markdown",
   "metadata": {},
   "source": [
    "##  Download activities for a given protein target"
   ]
  },
  {
   "cell_type": "markdown",
   "metadata": {},
   "source": [
    "### Step 1: Looking for a target without have its ChEMBL id (ChEMBL id is known, go to [step 2](#Step-2))"
   ]
  },
  {
   "cell_type": "code",
   "execution_count": 48,
   "metadata": {},
   "outputs": [
    {
     "data": {
      "application/javascript": [
       "IPython.notebook.execute_cell_range(IPython.notebook.get_selected_index()+1, IPython.notebook.get_selected_index()+3)"
      ],
      "text/plain": [
       "<IPython.core.display.Javascript object>"
      ]
     },
     "metadata": {},
     "output_type": "display_data"
    },
    {
     "data": {
      "application/javascript": [
       "IPython.notebook.execute_cell_range(IPython.notebook.get_selected_index()+1, IPython.notebook.get_selected_index()+3)"
      ],
      "text/plain": [
       "<IPython.core.display.Javascript object>"
      ]
     },
     "metadata": {},
     "output_type": "display_data"
    },
    {
     "data": {
      "application/javascript": [
       "IPython.notebook.execute_cell_range(IPython.notebook.get_selected_index()+1, IPython.notebook.get_selected_index()+3)"
      ],
      "text/plain": [
       "<IPython.core.display.Javascript object>"
      ]
     },
     "metadata": {},
     "output_type": "display_data"
    },
    {
     "data": {
      "application/javascript": [
       "IPython.notebook.execute_cell_range(IPython.notebook.get_selected_index()+1, IPython.notebook.get_selected_index()+3)"
      ],
      "text/plain": [
       "<IPython.core.display.Javascript object>"
      ]
     },
     "metadata": {},
     "output_type": "display_data"
    },
    {
     "data": {
      "application/vnd.jupyter.widget-view+json": {
       "model_id": "4bed7a8189f9484e85d838c69c6f505f",
       "version_major": 2,
       "version_minor": 0
      },
      "text/plain": [
       "VBox(children=(interactive(children=(Text(value='', description='protein'), Output()), _dom_classes=('widget-i…"
      ]
     },
     "metadata": {},
     "output_type": "display_data"
    }
   ],
   "source": [
    "def on_button_clicked(_):\n",
    "    display(Javascript('IPython.notebook.execute_cell_range(IPython.notebook.get_selected_index()+1, IPython.notebook.get_selected_index()+3)'))\n",
    "def f(protein):\n",
    "    return protein\n",
    "target_argument = w.interactive(f, protein='')\n",
    "searchBtn = w.Button(description='Search')\n",
    "searchBtn.on_click(on_button_clicked)\n",
    "w.VBox([target_argument, searchBtn])"
   ]
  },
  {
   "cell_type": "code",
   "execution_count": 49,
   "metadata": {},
   "outputs": [
    {
     "data": {
      "text/html": [
       "<div>\n",
       "<style scoped>\n",
       "    .dataframe tbody tr th:only-of-type {\n",
       "        vertical-align: middle;\n",
       "    }\n",
       "\n",
       "    .dataframe tbody tr th {\n",
       "        vertical-align: top;\n",
       "    }\n",
       "\n",
       "    .dataframe thead th {\n",
       "        text-align: right;\n",
       "    }\n",
       "</style>\n",
       "<table border=\"1\" class=\"dataframe\">\n",
       "  <thead>\n",
       "    <tr style=\"text-align: right;\">\n",
       "      <th></th>\n",
       "      <th>pref_name</th>\n",
       "      <th>target_chembl_id</th>\n",
       "      <th>organism</th>\n",
       "    </tr>\n",
       "  </thead>\n",
       "  <tbody>\n",
       "    <tr>\n",
       "      <th>0</th>\n",
       "      <td>Maltase-glucoamylase</td>\n",
       "      <td>CHEMBL2074</td>\n",
       "      <td>Homo sapiens</td>\n",
       "    </tr>\n",
       "    <tr>\n",
       "      <th>1</th>\n",
       "      <td>Sulfonylurea receptor 2</td>\n",
       "      <td>CHEMBL1971</td>\n",
       "      <td>Homo sapiens</td>\n",
       "    </tr>\n",
       "    <tr>\n",
       "      <th>2</th>\n",
       "      <td>Phosphodiesterase 5A</td>\n",
       "      <td>CHEMBL1827</td>\n",
       "      <td>Homo sapiens</td>\n",
       "    </tr>\n",
       "    <tr>\n",
       "      <th>3</th>\n",
       "      <td>Voltage-gated T-type calcium channel alpha-1H ...</td>\n",
       "      <td>CHEMBL1859</td>\n",
       "      <td>Homo sapiens</td>\n",
       "    </tr>\n",
       "    <tr>\n",
       "      <th>4</th>\n",
       "      <td>Dihydrofolate reductase</td>\n",
       "      <td>CHEMBL202</td>\n",
       "      <td>Homo sapiens</td>\n",
       "    </tr>\n",
       "    <tr>\n",
       "      <th>...</th>\n",
       "      <td>...</td>\n",
       "      <td>...</td>\n",
       "      <td>...</td>\n",
       "    </tr>\n",
       "    <tr>\n",
       "      <th>4076</th>\n",
       "      <td>Nicotinamide/nicotinic acid mononucleotide ade...</td>\n",
       "      <td>CHEMBL4802016</td>\n",
       "      <td>Homo sapiens</td>\n",
       "    </tr>\n",
       "    <tr>\n",
       "      <th>4077</th>\n",
       "      <td>NmrA-like family domain-containing protein 1</td>\n",
       "      <td>CHEMBL4802017</td>\n",
       "      <td>Homo sapiens</td>\n",
       "    </tr>\n",
       "    <tr>\n",
       "      <th>4078</th>\n",
       "      <td>AFG3-like protein 2</td>\n",
       "      <td>CHEMBL4802020</td>\n",
       "      <td>Homo sapiens</td>\n",
       "    </tr>\n",
       "    <tr>\n",
       "      <th>4079</th>\n",
       "      <td>Phosphatidylinositol 4-phosphate 5-kinase type...</td>\n",
       "      <td>CHEMBL4802064</td>\n",
       "      <td>Homo sapiens</td>\n",
       "    </tr>\n",
       "    <tr>\n",
       "      <th>4080</th>\n",
       "      <td>Biotinidase</td>\n",
       "      <td>CHEMBL4802066</td>\n",
       "      <td>Homo sapiens</td>\n",
       "    </tr>\n",
       "  </tbody>\n",
       "</table>\n",
       "<p>4081 rows × 3 columns</p>\n",
       "</div>"
      ],
      "text/plain": [
       "                                              pref_name target_chembl_id  \\\n",
       "0                                  Maltase-glucoamylase       CHEMBL2074   \n",
       "1                               Sulfonylurea receptor 2       CHEMBL1971   \n",
       "2                                  Phosphodiesterase 5A       CHEMBL1827   \n",
       "3     Voltage-gated T-type calcium channel alpha-1H ...       CHEMBL1859   \n",
       "4                               Dihydrofolate reductase        CHEMBL202   \n",
       "...                                                 ...              ...   \n",
       "4076  Nicotinamide/nicotinic acid mononucleotide ade...    CHEMBL4802016   \n",
       "4077       NmrA-like family domain-containing protein 1    CHEMBL4802017   \n",
       "4078                                AFG3-like protein 2    CHEMBL4802020   \n",
       "4079  Phosphatidylinositol 4-phosphate 5-kinase type...    CHEMBL4802064   \n",
       "4080                                        Biotinidase    CHEMBL4802066   \n",
       "\n",
       "          organism  \n",
       "0     Homo sapiens  \n",
       "1     Homo sapiens  \n",
       "2     Homo sapiens  \n",
       "3     Homo sapiens  \n",
       "4     Homo sapiens  \n",
       "...            ...  \n",
       "4076  Homo sapiens  \n",
       "4077  Homo sapiens  \n",
       "4078  Homo sapiens  \n",
       "4079  Homo sapiens  \n",
       "4080  Homo sapiens  \n",
       "\n",
       "[4081 rows x 3 columns]"
      ]
     },
     "execution_count": 49,
     "metadata": {},
     "output_type": "execute_result"
    }
   ],
   "source": [
    "targets = find_target_in_chembl(target_argument, species='Homo sapiens')\n",
    "targets"
   ]
  },
  {
   "cell_type": "code",
   "execution_count": 50,
   "metadata": {},
   "outputs": [
    {
     "name": "stdout",
     "output_type": "stream",
     "text": [
      "Select the protein of interest from the list below\n"
     ]
    },
    {
     "data": {
      "application/vnd.jupyter.widget-view+json": {
       "model_id": "81502fdb4817435586b50882b17e72b5",
       "version_major": 2,
       "version_minor": 0
      },
      "text/plain": [
       "VBox(children=(Select(description='Targets', options=(('Maltase-glucoamylase', 'CHEMBL2074'), ('Sulfonylurea r…"
      ]
     },
     "metadata": {},
     "output_type": "display_data"
    }
   ],
   "source": [
    "def on_button_clicked(_):\n",
    "    display(Javascript('IPython.notebook.execute_cell_range(IPython.notebook.get_selected_index()+2, IPython.notebook.get_selected_index()+9)'))\n",
    "target_selection = w.Select(\n",
    "    options=[val for val in zip(targets['pref_name'],targets['target_chembl_id'])],\n",
    "    description='Targets',\n",
    "    disabled=False\n",
    ")\n",
    "print('Select the protein of interest from the list below')\n",
    "# target_selection\n",
    "searchBtn = w.Button(description='Search')\n",
    "searchBtn.on_click(on_button_clicked)\n",
    "w.VBox([target_selection, searchBtn])"
   ]
  },
  {
   "cell_type": "markdown",
   "metadata": {},
   "source": [
    "### Step 2:  Looking for a target by ChEMBL id (written CHEMBL1234)\n",
    "### Ignore if you followed step 1"
   ]
  },
  {
   "cell_type": "code",
   "execution_count": 51,
   "metadata": {},
   "outputs": [
    {
     "data": {
      "application/vnd.jupyter.widget-view+json": {
       "model_id": "bfe4258c30094ad7a3ae1b924011d54f",
       "version_major": 2,
       "version_minor": 0
      },
      "text/plain": [
       "VBox(children=(interactive(children=(Text(value='', description='chembl_id'), Output()), _dom_classes=('widget…"
      ]
     },
     "metadata": {},
     "output_type": "display_data"
    }
   ],
   "source": [
    "def on_button_clicked(_):\n",
    "    display(Javascript('IPython.notebook.execute_cell_range(IPython.notebook.get_selected_index()+2, IPython.notebook.get_selected_index()+6)'))\n",
    "def f(chembl_id):\n",
    "    return chembl_id\n",
    "chemblid_argument = w.interactive(f, chembl_id='')\n",
    "searchBtn = w.Button(description='Search')\n",
    "searchBtn.on_click(on_button_clicked)\n",
    "w.VBox([chemblid_argument, searchBtn])"
   ]
  },
  {
   "cell_type": "markdown",
   "metadata": {},
   "source": [
    "### Step 3: Retrieve the activity data in ChEMBL "
   ]
  },
  {
   "cell_type": "code",
   "execution_count": 52,
   "metadata": {},
   "outputs": [
    {
     "name": "stdout",
     "output_type": "stream",
     "text": [
      "86 datapoint were found\n"
     ]
    }
   ],
   "source": [
    "df_activities = find_activity_data(target_selection, chemblid_argument)"
   ]
  },
  {
   "cell_type": "markdown",
   "metadata": {},
   "source": [
    "#### Data endpoints available "
   ]
  },
  {
   "cell_type": "code",
   "execution_count": 44,
   "metadata": {
    "scrolled": true
   },
   "outputs": [
    {
     "data": {
      "text/html": [
       "<div>\n",
       "<style scoped>\n",
       "    .dataframe tbody tr th:only-of-type {\n",
       "        vertical-align: middle;\n",
       "    }\n",
       "\n",
       "    .dataframe tbody tr th {\n",
       "        vertical-align: top;\n",
       "    }\n",
       "\n",
       "    .dataframe thead th {\n",
       "        text-align: right;\n",
       "    }\n",
       "</style>\n",
       "<table border=\"1\" class=\"dataframe\">\n",
       "  <thead>\n",
       "    <tr style=\"text-align: right;\">\n",
       "      <th></th>\n",
       "      <th>data points</th>\n",
       "    </tr>\n",
       "  </thead>\n",
       "  <tbody>\n",
       "    <tr>\n",
       "      <th>IC50</th>\n",
       "      <td>2401</td>\n",
       "    </tr>\n",
       "    <tr>\n",
       "      <th>Ki</th>\n",
       "      <td>16</td>\n",
       "    </tr>\n",
       "    <tr>\n",
       "      <th>Kd</th>\n",
       "      <td>7</td>\n",
       "    </tr>\n",
       "    <tr>\n",
       "      <th>EC50</th>\n",
       "      <td>1</td>\n",
       "    </tr>\n",
       "  </tbody>\n",
       "</table>\n",
       "</div>"
      ],
      "text/plain": [
       "      data points\n",
       "IC50         2401\n",
       "Ki             16\n",
       "Kd              7\n",
       "EC50            1"
      ]
     },
     "execution_count": 44,
     "metadata": {},
     "output_type": "execute_result"
    }
   ],
   "source": [
    "df_endpoints = pd.DataFrame(df_activities.standard_type.value_counts()).rename({'standard_type':'data points'},axis=1)\n",
    "df_endpoints"
   ]
  },
  {
   "cell_type": "markdown",
   "metadata": {},
   "source": [
    "### Step 4: Based on the data retrieved, select the activity endpoint to use in the model.\n",
    "Multiple values can be selected with <kbd>shift</kbd> and/or <kbd>ctrl</kbd> (or <kbd>command</kbd>) pressed and mouse clicks or arrow keys."
   ]
  },
  {
   "cell_type": "code",
   "execution_count": 45,
   "metadata": {},
   "outputs": [
    {
     "data": {
      "application/vnd.jupyter.widget-view+json": {
       "model_id": "dfa4feb3bb8748d4b4d850ebe74fcf2e",
       "version_major": 2,
       "version_minor": 0
      },
      "text/plain": [
       "VBox(children=(SelectMultiple(description='Endpoints', options=('IC50', 'Ki', 'Kd', 'EC50'), value=()), Button…"
      ]
     },
     "metadata": {},
     "output_type": "display_data"
    }
   ],
   "source": [
    "def on_button_clicked(_):\n",
    "    display(Javascript('IPython.notebook.execute_cell_range(IPython.notebook.get_selected_index()+1, IPython.notebook.get_selected_index()+4)'))\n",
    "\n",
    "endpoint_selection = w.SelectMultiple(\n",
    "    options=df_endpoints.index,\n",
    "    description='Endpoints',\n",
    "    disabled=False\n",
    ")\n",
    "searchBtn = w.Button(description='Select')\n",
    "searchBtn.on_click(on_button_clicked)\n",
    "w.VBox([endpoint_selection, searchBtn])"
   ]
  },
  {
   "cell_type": "code",
   "execution_count": null,
   "metadata": {},
   "outputs": [],
   "source": [
    "df_activities = df_activities[df_activities.standard_type.isin(endpoint_selection.value)]"
   ]
  },
  {
   "cell_type": "markdown",
   "metadata": {},
   "source": [
    "### Step 5: Should the duplicted value be removed? "
   ]
  },
  {
   "cell_type": "code",
   "execution_count": null,
   "metadata": {},
   "outputs": [],
   "source": [
    "def on_button_clicked(_):\n",
    "    display(Javascript('IPython.notebook.execute_cell_range(IPython.notebook.get_selected_index()+1, IPython.notebook.get_selected_index()+5)'))\n",
    "\n",
    "duplicate_selection = w.Select(\n",
    "    options=[('Yes',True),('No',False)],\n",
    "#     value=['CHEMBL1862'],\n",
    "    description='remove duplicates?',\n",
    "    disabled=False,\n",
    "    style= {'description_width': 'initial'}\n",
    ")\n",
    "\n",
    "searchBtn = w.Button(description='Run')\n",
    "searchBtn.on_click(on_button_clicked)\n",
    "w.VBox([duplicate_selection, searchBtn])"
   ]
  },
  {
   "cell_type": "code",
   "execution_count": null,
   "metadata": {},
   "outputs": [],
   "source": [
    "df_activities = remove_duplicates(df_activities, duplicate_selection.value)"
   ]
  },
  {
   "cell_type": "markdown",
   "metadata": {},
   "source": [
    "### Step 6: Select the type of assays\n",
    "By defaults, assays are divided in 3 categories depending on whether their description contain certain words:\n",
    "- affinity assay\n",
    "- displacement assay\n",
    "- inhibition assay"
   ]
  },
  {
   "cell_type": "code",
   "execution_count": null,
   "metadata": {},
   "outputs": [],
   "source": [
    "df_assays = assay_summary(df_activities)\n",
    "df_assays"
   ]
  },
  {
   "cell_type": "code",
   "execution_count": null,
   "metadata": {},
   "outputs": [
    {
     "data": {
      "application/javascript": [
       "IPython.notebook.execute_cell_range(IPython.notebook.get_selected_index()+1, IPython.notebook.get_selected_index()+6)"
      ],
      "text/plain": [
       "<IPython.core.display.Javascript object>"
      ]
     },
     "metadata": {},
     "output_type": "display_data"
    }
   ],
   "source": [
    "def on_button_clicked(_):\n",
    "    display(Javascript('IPython.notebook.execute_cell_range(IPython.notebook.get_selected_index()+1, IPython.notebook.get_selected_index()+6)'))\n",
    "\n",
    "assay_selection = w.SelectMultiple(\n",
    "    options=df_assays.assay_type,\n",
    "    description='Assay types',\n",
    "    disabled=False\n",
    ")\n",
    "\n",
    "searchBtn = w.Button(description='Select')\n",
    "searchBtn.on_click(on_button_clicked)\n",
    "w.VBox([assay_selection, searchBtn])"
   ]
  },
  {
   "cell_type": "code",
   "execution_count": 20,
   "metadata": {},
   "outputs": [],
   "source": [
    "df_activities = df_activities[df_activities.assay_description.str.contains('|'.join(assay_selection.value), case=False)]"
   ]
  },
  {
   "cell_type": "code",
   "execution_count": 21,
   "metadata": {},
   "outputs": [
    {
     "data": {
      "text/plain": [
       "(2269, 13)"
      ]
     },
     "execution_count": 21,
     "metadata": {},
     "output_type": "execute_result"
    }
   ],
   "source": [
    "df_activities.shape"
   ]
  },
  {
   "cell_type": "markdown",
   "metadata": {},
   "source": [
    "### Step 6: Export data for Flame "
   ]
  },
  {
   "cell_type": "markdown",
   "metadata": {},
   "source": [
    "Adapted by Eric Marc and Manuel Pastor (UPF), 2021\n",
    "<br>Remove all the lines of this tables containing compounds without structure (the \"canonical_smiles\" is a na) and Write the SDFile"
   ]
  },
  {
   "cell_type": "code",
   "execution_count": 24,
   "metadata": {},
   "outputs": [],
   "source": [
    "df_activities.drop(df_activities[df_activities['canonical_smiles'].isna()].index, axis=0, inplace=True)\n",
    "write_sdf(df_activities, 'canonical_smiles', 'molecule_chembl_id', 'chembl_data.sdf')"
   ]
  },
  {
   "cell_type": "code",
   "execution_count": null,
   "metadata": {},
   "outputs": [],
   "source": []
  }
 ],
 "metadata": {
  "kernelspec": {
   "display_name": "Python 3 (ipykernel)",
   "language": "python",
   "name": "python3"
  },
  "language_info": {
   "codemirror_mode": {
    "name": "ipython",
    "version": 3
   },
   "file_extension": ".py",
   "mimetype": "text/x-python",
   "name": "python",
   "nbconvert_exporter": "python",
   "pygments_lexer": "ipython3",
   "version": "3.7.9"
  }
 },
 "nbformat": 4,
 "nbformat_minor": 4
}
