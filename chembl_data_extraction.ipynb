{
 "cells": [
  {
   "cell_type": "markdown",
   "metadata": {},
   "source": [
    "<b>[Author]</b> Nicolas Bosc\n",
    "<br><b>[Organisation]</b> EMBL-EBI\n",
    "<br><b>[Year]</b> 2022"
   ]
  },
  {
   "cell_type": "markdown",
   "metadata": {},
   "source": [
    "# Data extraction from ChEMBL\n",
    "This notebook shows how to extract bioactivity data from the ChEMBL database to get them in a model training-friendly format. <br>\n",
    "It makes use of the Python client library. <u>Therefore, it does not require a local installation of ChEMBL to run.</u>\n",
    "\n",
    "To work, it only needs a protein name (for instance COX-2). If data are found it writes a Flame format-compatible SDF file with the relevant data.\n",
    "\n",
    "<b>Note</b>: there are several ways to achieve the same result and this notebook only show one possibility. Further documentation and examples are available [here](https://chembl.gitbook.io/chembl-interface-documentation/web-services/chembl-data-web-services). For remarks and comments please contact Nicolas Bosc <nbosc@ebi.ac.uk>"
   ]
  },
  {
   "cell_type": "markdown",
   "metadata": {},
   "source": [
    "Notes: the script was tested with the following targets:\n",
    "- 5-HT2B\n",
    "- Dopamine D1 receptor\n",
    "- 5-HT1A\n",
    "- Adenosine receptor A1\n",
    "- Cyclooxygenase-2   \n",
    "- Androgen Receptor"
   ]
  },
  {
   "cell_type": "code",
   "execution_count": null,
   "metadata": {},
   "outputs": [],
   "source": [
    "# Tested with Python 3.7\n",
    "# You can install the required packages if they are not already installed. Just uncomment the next three lines.\n",
    "# import sys\n",
    "# !conda install --yes --prefix {sys.prefix} pandas ipywidgets\n",
    "# !{sys.executable} -m pip install chembl-webresource-client rdkit-pypi"
   ]
  },
  {
   "cell_type": "code",
   "execution_count": null,
   "metadata": {},
   "outputs": [],
   "source": [
    "import pandas as pd\n",
    "from chembl_webresource_client.new_client import new_client\n",
    "import ipywidgets as w\n",
    "#from IPython.display import display, Javascript\n",
    "from rdkit.Chem import PandasTools\n",
    "\n",
    "def find_target_in_chembl(widget_args, species='Homo sapiens'):\n",
    "    protein_name = widget_args.kwargs['protein']\n",
    "    # create a target query\n",
    "    target = new_client.target\n",
    "    # assume this is a 'single protein' present in the user-defined species\n",
    "    response = target.filter(target_synonym__icontains=protein_name, organism=species, target_type='SINGLE PROTEIN')\n",
    "    df_res = pd.DataFrame(response)\n",
    "    return(df_res[['pref_name','target_chembl_id','organism']])\n",
    "\n",
    "def find_activity_data(target_selection):\n",
    "    '''\n",
    "    input: target selected from the list\n",
    "    Look for all the bioactivity in ChEMBL for this target. Restricted to data with pchembl values (-log(IC50, Ki, Kd, EC50...))\n",
    "    Apply several sanity filters to keep only high confidence data\n",
    "    ouput: dataframe with all the activities that pass the check\n",
    "    '''\n",
    "    \n",
    "    # assign target chembl_id\n",
    "    target_id = target_selection.value\n",
    "    \n",
    "    # Create an activity query\n",
    "    activities = new_client.activity\n",
    "\n",
    "    # Select only activities with a pchembl_value (-log(IC50, Ki, Kd, EC50...).\n",
    "    # We also use the chembl flags to remove the duplicates and the records where there is a validity comment\n",
    "    response = activities.filter(target_chembl_id=target_id, pchembl_value__isnull=False,\\\n",
    "                                 potential_duplicate=False, data_validity_comment__isnull=True )\n",
    "\n",
    "    # create a dataframe with the activity data\n",
    "    df_activities = pd.DataFrame(response)\n",
    "\n",
    "    # create an assay query\n",
    "    assays = new_client.assay\n",
    "    # select assays.\n",
    "    response = assays.filter(assay_chembl_id__in=list(df_activities.assay_chembl_id.unique()))\n",
    "\n",
    "    # create a dataframe with the assay data\n",
    "    df_assays = pd.DataFrame(response)\n",
    "\n",
    "    # keep only the assays where the link between the protein target and the assay is direct\n",
    "    df_assays = df_assays[df_assays.confidence_score==9]\n",
    "\n",
    "    df_activities = df_activities[df_activities.assay_chembl_id.isin(df_assays.assay_chembl_id)]\n",
    "    df_activities = df_activities.astype({'pchembl_value':float, 'standard_value':float})\n",
    "\n",
    "    # keep only the columns you need\n",
    "    df_res = df_activities[['assay_chembl_id','assay_description','parent_molecule_chembl_id','molecule_chembl_id','canonical_smiles','pchembl_value',\\\n",
    "                   'standard_type','standard_relation','standard_value','standard_units','target_pref_name',\\\n",
    "                   'target_chembl_id', 'target_organism']]\n",
    "    print(f'{df_res.shape[0]} datapoint were found')\n",
    "    return(df_res)\n",
    "\n",
    "def remove_duplicates(df, do):\n",
    "    '''\n",
    "    if keep==True, remove duplicated data points\n",
    "    based on all the values availables for a given compound on a given target,\n",
    "    if the standard deviation < 1, then calculate the median value\n",
    "    else don't keep the values\n",
    "    '''\n",
    "    if do:\n",
    "        df_res = pd.DataFrame.copy(df)\n",
    "        for cpd_id in df['parent_molecule_chembl_id'].unique():\n",
    "            std = df[df.parent_molecule_chembl_id==cpd_id]['pchembl_value'].std()\n",
    "            if std > 1:\n",
    "                df_res = df_res[df_res.parent_molecule_chembl_id!=cpd_id]\n",
    "        pchembl_median = df_res.groupby('parent_molecule_chembl_id')['pchembl_value'].median().reset_index()['pchembl_value']\n",
    "        df_res  = df_res.drop_duplicates(['parent_molecule_chembl_id'])\n",
    "        df_res = df_res.assign(pchembl_median=pchembl_median.values).drop('pchembl_value',axis=1)\n",
    "        return(df_res)\n",
    "    else:\n",
    "        return(df)\n",
    "\n",
    "def assay_summary(df):\n",
    "    aff = df[(df.assay_description.str.contains('affinity', case=False))]['assay_chembl_id'].to_list()\n",
    "    disp = df[(df.assay_description.str.contains('displacement', case=False))]['assay_chembl_id'].to_list()\n",
    "    inhi = df[(df.assay_description.str.contains('inhibition', case=False))]['assay_chembl_id'].to_list()\n",
    "    return(pd.DataFrame({'assay_type':['affinity','displacement','inhibition'], 'data':[len(aff),len(disp),len(inhi)]}))\n",
    "\n",
    "def write_sdf(data, smiles_column, id_column, output_name):\n",
    "    PandasTools.AddMoleculeColumnToFrame(data, smiles_column)\n",
    "\n",
    "    # Uncomment the two lines below if a NoneType error appears when executing WriteSDF\n",
    "    #     no_mol = data[data['ROMol'].isna()]\n",
    "    #     data.drop(no_mol.index, axis=0, inplace=True)\n",
    "\n",
    "    # add H\n",
    "    # data.loc[:,'ROMol'] = [Chem.AddHs(x) for x in data.loc[:,'ROMol'].values.tolist()]\n",
    "\n",
    "    PandasTools.WriteSDF(data, output_name, molColName='ROMol', properties=list(data.columns), idName=id_column)"
   ]
  },
  {
   "cell_type": "markdown",
   "metadata": {},
   "source": [
    "##  Download activities for a given protein target"
   ]
  },
  {
   "cell_type": "markdown",
   "metadata": {},
   "source": [
    "### Step 1: Looking for a target in ChEMBL"
   ]
  },
  {
   "cell_type": "code",
   "execution_count": null,
   "metadata": {},
   "outputs": [],
   "source": [
    "def f(protein):\n",
    "    return protein\n",
    "target_argument = w.interactive(f, protein='')\n",
    "target_argument"
   ]
  },
  {
   "cell_type": "code",
   "execution_count": null,
   "metadata": {
    "scrolled": true
   },
   "outputs": [],
   "source": [
    "targets = find_target_in_chembl(target_argument, species='Homo sapiens')\n",
    "targets"
   ]
  },
  {
   "cell_type": "code",
   "execution_count": null,
   "metadata": {},
   "outputs": [],
   "source": [
    "target_selection = w.Select(\n",
    "    options=[val for val in zip(targets['pref_name'],targets['target_chembl_id'])],\n",
    "    description='Targets',\n",
    "    disabled=False\n",
    ")\n",
    "print('Select the protein of interest from the list below')\n",
    "target_selection"
   ]
  },
  {
   "cell_type": "markdown",
   "metadata": {},
   "source": [
    "### Step 2: Retrieve the activity data in ChEMBL for the selected target"
   ]
  },
  {
   "cell_type": "code",
   "execution_count": null,
   "metadata": {},
   "outputs": [],
   "source": [
    "df_activities = find_activity_data(target_selection)"
   ]
  },
  {
   "cell_type": "markdown",
   "metadata": {},
   "source": [
    "#### Data endpoints available "
   ]
  },
  {
   "cell_type": "code",
   "execution_count": null,
   "metadata": {
    "scrolled": true
   },
   "outputs": [],
   "source": [
    "df_endpoints = pd.DataFrame(df_activities.standard_type.value_counts()).rename({'standard_type':'data points'},axis=1)\n",
    "df_endpoints"
   ]
  },
  {
   "cell_type": "markdown",
   "metadata": {},
   "source": [
    "### Step 4: Based on the data retrieved, select the activity endpoint to use in the model.\n",
    "Multiple values can be selected with <kbd>shift</kbd> and/or <kbd>ctrl</kbd> (or <kbd>command</kbd>) pressed and mouse clicks or arrow keys."
   ]
  },
  {
   "cell_type": "code",
   "execution_count": null,
   "metadata": {},
   "outputs": [],
   "source": [
    "endpoint_selection = w.SelectMultiple(\n",
    "    options=df_endpoints.index,\n",
    "    description='Endpoints',\n",
    "    disabled=False\n",
    ")\n",
    "endpoint_selection"
   ]
  },
  {
   "cell_type": "code",
   "execution_count": null,
   "metadata": {},
   "outputs": [],
   "source": [
    "df_activities = df_activities[df_activities.standard_type.isin(endpoint_selection.value)]"
   ]
  },
  {
   "cell_type": "markdown",
   "metadata": {},
   "source": [
    "### Step 5: Should the duplicted value be removed? "
   ]
  },
  {
   "cell_type": "code",
   "execution_count": null,
   "metadata": {},
   "outputs": [],
   "source": [
    "duplicate_selection = w.Select(\n",
    "    options=[('Yes',True),('No',False)],\n",
    "#     value=['CHEMBL1862'],\n",
    "    description='remove duplicates?',\n",
    "    disabled=False,\n",
    "    style= {'description_width': 'initial'}\n",
    ")\n",
    "duplicate_selection"
   ]
  },
  {
   "cell_type": "code",
   "execution_count": null,
   "metadata": {},
   "outputs": [],
   "source": [
    "df_activities = remove_duplicates(df_activities, duplicate_selection.value)"
   ]
  },
  {
   "cell_type": "markdown",
   "metadata": {},
   "source": [
    "### Step 6: Select the type of assays\n",
    "By defaults, assays are divided in 3 categories depending on whether their description contain certain words:\n",
    "- affinity assay\n",
    "- displacement assay\n",
    "- inhibition assay"
   ]
  },
  {
   "cell_type": "code",
   "execution_count": null,
   "metadata": {},
   "outputs": [],
   "source": [
    "df_assays = assay_summary(df_activities)\n",
    "df_assays"
   ]
  },
  {
   "cell_type": "code",
   "execution_count": null,
   "metadata": {},
   "outputs": [],
   "source": [
    "assay_selection = w.SelectMultiple(\n",
    "    options=df_assays.assay_type,\n",
    "    description='Assay types',\n",
    "    disabled=False\n",
    ")\n",
    "assay_selection"
   ]
  },
  {
   "cell_type": "code",
   "execution_count": null,
   "metadata": {},
   "outputs": [],
   "source": [
    "df_activities = df_activities[df_activities.assay_description.str.contains('|'.join(assay_selection.value), case=False)]"
   ]
  },
  {
   "cell_type": "code",
   "execution_count": null,
   "metadata": {},
   "outputs": [],
   "source": [
    "df_activities.shape"
   ]
  },
  {
   "cell_type": "markdown",
   "metadata": {},
   "source": [
    "### Step 6: Export data for Flame "
   ]
  },
  {
   "cell_type": "markdown",
   "metadata": {},
   "source": [
    "Adapted by Eric Marc and Manuel Pastor (UPF), 2021\n",
    "<br>Remove all the lines of this tables containing compounds without structure (the \"canonical_smiles\" is a na) and Write the SDFile"
   ]
  },
  {
   "cell_type": "code",
   "execution_count": null,
   "metadata": {},
   "outputs": [],
   "source": [
    "df_activities.drop(df_activities[df_activities['canonical_smiles'].isna()].index, axis=0, inplace=True)\n",
    "write_sdf(df_activities, 'canonical_smiles', 'molecule_chembl_id', 'chembl_data.sdf')"
   ]
  },
  {
   "cell_type": "code",
   "execution_count": null,
   "metadata": {},
   "outputs": [],
   "source": []
  }
 ],
 "metadata": {
  "kernelspec": {
   "display_name": "Python 3 (ipykernel)",
   "language": "python",
   "name": "python3"
  },
  "language_info": {
   "codemirror_mode": {
    "name": "ipython",
    "version": 3
   },
   "file_extension": ".py",
   "mimetype": "text/x-python",
   "name": "python",
   "nbconvert_exporter": "python",
   "pygments_lexer": "ipython3",
   "version": "3.7.9"
  }
 },
 "nbformat": 4,
 "nbformat_minor": 4
}
