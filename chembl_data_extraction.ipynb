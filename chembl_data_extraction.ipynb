{
 "cells": [
  {
   "cell_type": "markdown",
   "metadata": {},
   "source": [
    "<b>[Author]</b> Nicolas Bosc\n",
    "<br><b>[Year]</b> 2020"
   ]
  },
  {
   "cell_type": "markdown",
   "metadata": {},
   "source": [
    "# Data extraction from ChEMBL\n",
    "This notebook shows how to extract bioactivity data from the ChEMBL database to get them in a model training-friendly format. <br>\n",
    "It makes use of the Python client library. <u>Therefore, it does not require a local installation of ChEMBL to run.</u>\n",
    "\n",
    "To work, it only needs a protein name (by default COX-2) or alternatively its ChEMBL identifier. If data are found it writes a csv file with the relevant data\n",
    "\n",
    "<b>Note</b>: there are several ways to achieve the same result and this notebook only show one possibility. Further documentation and examples are available [here](https://chembl.gitbook.io/chembl-interface-documentation/web-services/chembl-data-web-services). For remarks and comments please contact Nicolas Bosc <nbosc@ebi.ac.uk>"
   ]
  },
  {
   "cell_type": "code",
   "execution_count": 1,
   "metadata": {},
   "outputs": [],
   "source": [
    "# Tested with Python 3.7\n",
    "# You can install the required packages if they are not already installed. Just uncomment the next three lines.\n",
    "# import sys\n",
    "# !conda install --yes --prefix {sys.prefix} pandas ipywidgets\n",
    "# !{sys.executable} -m pip install chembl-webresource-client"
   ]
  },
  {
   "cell_type": "code",
   "execution_count": 2,
   "metadata": {},
   "outputs": [],
   "source": [
    "import pandas as pd\n",
    "from chembl_webresource_client.new_client import new_client\n",
    "from ipywidgets import interactive"
   ]
  },
  {
   "cell_type": "markdown",
   "metadata": {},
   "source": [
    "##  Download activities for a given protein target"
   ]
  },
  {
   "cell_type": "markdown",
   "metadata": {},
   "source": [
    "#### Step 1"
   ]
  },
  {
   "cell_type": "markdown",
   "metadata": {},
   "source": [
    "#### You are looking for a target but you do not have its ChEMBL id (if you know the ChEMBL id, go to [step 2](#Step-2))"
   ]
  },
  {
   "cell_type": "code",
   "execution_count": 18,
   "metadata": {},
   "outputs": [
    {
     "data": {
      "application/vnd.jupyter.widget-view+json": {
       "model_id": "bfb863baaa464b62a8e604bd656038a2",
       "version_major": 2,
       "version_minor": 0
      },
      "text/plain": [
       "interactive(children=(Text(value='cox2', description='protein'), Output()), _dom_classes=('widget-interact',))"
      ]
     },
     "metadata": {},
     "output_type": "display_data"
    }
   ],
   "source": [
    "def f(protein):\n",
    "    return protein\n",
    "userArguments = interactive(f, protein='cox2')\n",
    "userArguments"
   ]
  },
  {
   "cell_type": "code",
   "execution_count": 19,
   "metadata": {},
   "outputs": [
    {
     "data": {
      "text/html": [
       "<div>\n",
       "<style scoped>\n",
       "    .dataframe tbody tr th:only-of-type {\n",
       "        vertical-align: middle;\n",
       "    }\n",
       "\n",
       "    .dataframe tbody tr th {\n",
       "        vertical-align: top;\n",
       "    }\n",
       "\n",
       "    .dataframe thead th {\n",
       "        text-align: right;\n",
       "    }\n",
       "</style>\n",
       "<table border=\"1\" class=\"dataframe\">\n",
       "  <thead>\n",
       "    <tr style=\"text-align: right;\">\n",
       "      <th></th>\n",
       "      <th>cross_references</th>\n",
       "      <th>organism</th>\n",
       "      <th>pref_name</th>\n",
       "      <th>species_group_flag</th>\n",
       "      <th>target_chembl_id</th>\n",
       "      <th>target_components</th>\n",
       "      <th>target_type</th>\n",
       "      <th>tax_id</th>\n",
       "    </tr>\n",
       "  </thead>\n",
       "  <tbody>\n",
       "    <tr>\n",
       "      <th>0</th>\n",
       "      <td>[{'xref_id': 'P35354', 'xref_name': None, 'xre...</td>\n",
       "      <td>Homo sapiens</td>\n",
       "      <td>Cyclooxygenase-2</td>\n",
       "      <td>False</td>\n",
       "      <td>CHEMBL230</td>\n",
       "      <td>[{'accession': 'P35354', 'component_descriptio...</td>\n",
       "      <td>SINGLE PROTEIN</td>\n",
       "      <td>9606</td>\n",
       "    </tr>\n",
       "    <tr>\n",
       "      <th>1</th>\n",
       "      <td>[{'xref_id': 'P00403', 'xref_name': None, 'xre...</td>\n",
       "      <td>Homo sapiens</td>\n",
       "      <td>Cytochrome c oxidase subunit 2</td>\n",
       "      <td>False</td>\n",
       "      <td>CHEMBL6174</td>\n",
       "      <td>[{'accession': 'P00403', 'component_descriptio...</td>\n",
       "      <td>SINGLE PROTEIN</td>\n",
       "      <td>9606</td>\n",
       "    </tr>\n",
       "  </tbody>\n",
       "</table>\n",
       "</div>"
      ],
      "text/plain": [
       "                                    cross_references      organism  \\\n",
       "0  [{'xref_id': 'P35354', 'xref_name': None, 'xre...  Homo sapiens   \n",
       "1  [{'xref_id': 'P00403', 'xref_name': None, 'xre...  Homo sapiens   \n",
       "\n",
       "                        pref_name  species_group_flag target_chembl_id  \\\n",
       "0                Cyclooxygenase-2               False        CHEMBL230   \n",
       "1  Cytochrome c oxidase subunit 2               False       CHEMBL6174   \n",
       "\n",
       "                                   target_components     target_type  tax_id  \n",
       "0  [{'accession': 'P35354', 'component_descriptio...  SINGLE PROTEIN    9606  \n",
       "1  [{'accession': 'P00403', 'component_descriptio...  SINGLE PROTEIN    9606  "
      ]
     },
     "execution_count": 19,
     "metadata": {},
     "output_type": "execute_result"
    }
   ],
   "source": [
    "# create a target query\n",
    "target = new_client.target\n",
    "protein_name = userArguments.kwargs['protein']\n",
    "# in this example we assume this is a 'single protein' present in the human species\n",
    "response = target.filter(target_synonym__icontains=protein_name, organism='Homo sapiens', target_type='SINGLE PROTEIN')\n",
    "\n",
    "pd.DataFrame(response)"
   ]
  },
  {
   "cell_type": "markdown",
   "metadata": {},
   "source": [
    "From these results, it is obvious that we are interested by the first protein (Cyclooxygenase-2) whose ChEMBL id is <b>CHEMBL230</b>"
   ]
  },
  {
   "cell_type": "markdown",
   "metadata": {},
   "source": [
    "#### Step 2"
   ]
  },
  {
   "cell_type": "markdown",
   "metadata": {},
   "source": [
    "#### You are looking for a target and you have its ChEMBL id "
   ]
  },
  {
   "cell_type": "code",
   "execution_count": 6,
   "metadata": {},
   "outputs": [
    {
     "data": {
      "application/vnd.jupyter.widget-view+json": {
       "model_id": "c2ef476cee774b2eaacf12d4a7742950",
       "version_major": 2,
       "version_minor": 0
      },
      "text/plain": [
       "interactive(children=(Text(value='CHEMBL230', description='chembl_id'), Output()), _dom_classes=('widget-inter…"
      ]
     },
     "metadata": {},
     "output_type": "display_data"
    }
   ],
   "source": [
    "def f(chembl_id):\n",
    "    return chembl_id\n",
    "userArguments2 = interactive(f, chembl_id='CHEMBL230')\n",
    "userArguments2"
   ]
  },
  {
   "cell_type": "code",
   "execution_count": 7,
   "metadata": {},
   "outputs": [],
   "source": [
    "# Create an activity query\n",
    "activities = new_client.activity\n",
    "chembl_id = userArguments2.kwargs['chembl_id']\n",
    "# Select only activities with a pchembl_value (-log(IC50, Ki, Kd, EC50...).\n",
    "# We also use the chembl flags to remove the duplicates and the records where there is a validity comment\n",
    "response = activities.filter(target_chembl_id=chembl_id, pchembl_value__isnull=False,\\\n",
    "                             potential_duplicate=False, data_validity_comment__isnull=True )\n",
    "\n",
    "# create a dataframe with the activity data\n",
    "df_activities = pd.DataFrame(response)\n",
    "\n",
    "# create an assay query\n",
    "assays = new_client.assay\n",
    "# select assays.\n",
    "response = assays.filter(assay_chembl_id__in=list(df_activities.assay_chembl_id.unique()))\n",
    "\n",
    "# create a dataframe with the assay data\n",
    "df_assays = pd.DataFrame(response)\n",
    "\n",
    "# keep only the assays where the link between the protein target and the assay is direct\n",
    "df_assays = df_assays[df_assays.confidence_score==9]\n",
    "\n",
    "df_activities = df_activities[df_activities.assay_chembl_id.isin(df_assays.assay_chembl_id)]\n",
    "\n",
    "# keep only the columns you need\n",
    "df_res = df_activities[['assay_chembl_id','assay_description','molecule_chembl_id','canonical_smiles','pchembl_value',\\\n",
    "               'standard_type','standard_relation','standard_value','standard_units','target_pref_name',\\\n",
    "               'target_chembl_id', 'target_organism']]\n",
    "\n",
    "# export the resulting data\n",
    "df_res.to_csv(f\"{userArguments.kwargs['protein']}_chembl_data.csv\", index=False)"
   ]
  },
  {
   "cell_type": "markdown",
   "metadata": {},
   "source": [
    "Before using this dataset for training your model, you should check for any duplicate activities and decide what to do with them. Finally, you will have to describe the compounds using the features of your choice."
   ]
  }
 ],
 "metadata": {
  "kernelspec": {
   "display_name": "Python 3",
   "language": "python",
   "name": "python3"
  },
  "language_info": {
   "codemirror_mode": {
    "name": "ipython",
    "version": 3
   },
   "file_extension": ".py",
   "mimetype": "text/x-python",
   "name": "python",
   "nbconvert_exporter": "python",
   "pygments_lexer": "ipython3",
   "version": "3.7.9"
  }
 },
 "nbformat": 4,
 "nbformat_minor": 4
}
