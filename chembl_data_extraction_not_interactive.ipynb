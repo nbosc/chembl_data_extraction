{
 "cells": [
  {
   "cell_type": "markdown",
   "metadata": {},
   "source": [
    "<b>[Author]</b> Nicolas Bosc\n",
    "<br><b>[Year]</b> 2022"
   ]
  },
  {
   "cell_type": "markdown",
   "metadata": {},
   "source": [
    "# Data extraction from ChEMBL\n",
    "This notebook shows how to extract bioactivity data from the ChEMBL database to get them in a model training-friendly format. <br>\n",
    "It makes use of the Python client library. <u>Therefore, it does not require a local installation of ChEMBL to run.</u>\n",
    "\n",
    "To work, it only needs a protein name (by default COX-2) or alternatively its ChEMBL identifier. If data are found it writes a csv file with the relevant data\n",
    "\n",
    "<b>Note</b>: there are several ways to achieve the same result and this notebook only show one possibility. Further documentation and examples are available [here](https://chembl.gitbook.io/chembl-interface-documentation/web-services/chembl-data-web-services). For remarks and comments please contact Nicolas Bosc <nbosc@ebi.ac.uk>"
   ]
  },
  {
   "cell_type": "raw",
   "metadata": {},
   "source": [
    "Notes (number of compounds without duplicates):\n",
    "- 5-HT2B CHEMBL1833: Ki data look homegeneous (967)\n",
    "- Dopamine D1 receptor CHEMBL2056: Ki data look homogeneous (694)\n",
    "- 5-HT1A CHEMBL214: Ki data look homogenous (3230)\n",
    "- Adenosine A1 receptor CHEMBL226:\n",
    "- Cyclooxygenase-2 CHEMBL230    \n",
    "- Androgen Receptor CHEMBL3072:"
   ]
  },
  {
   "cell_type": "code",
   "execution_count": 1,
   "metadata": {},
   "outputs": [],
   "source": [
    "# Tested with Python 3.7\n",
    "# You can install the required packages if they are not already installed. Just uncomment the next three lines.\n",
    "# import sys\n",
    "# !conda install --yes --prefix {sys.prefix} pandas ipywidgets\n",
    "# !{sys.executable} -m pip install chembl-webresource-client rdkit-pypi"
   ]
  },
  {
   "cell_type": "code",
   "execution_count": null,
   "metadata": {},
   "outputs": [],
   "source": [
    "import pandas as pd\n",
    "from chembl_webresource_client.new_client import new_client\n",
    "import ipywidgets as w\n",
    "#from IPython.display import display, Javascript\n",
    "from rdkit.Chem import PandasTools\n",
    "\n",
    "def find_target_in_chembl(widget_args, species='Homo sapiens'):\n",
    "    protein_name = widget_args.kwargs['protein']\n",
    "    # create a target query\n",
    "    target = new_client.target\n",
    "    # assume this is a 'single protein' present in the user-defined species\n",
    "    response = target.filter(target_synonym__icontains=protein_name, organism=species, target_type='SINGLE PROTEIN')\n",
    "    df_res = pd.DataFrame(response)\n",
    "    return(df_res[['pref_name','target_chembl_id','organism']])\n",
    "\n",
    "def find_activity_data(target_selection, argument):\n",
    "    '''\n",
    "    input: target selected from the list or chembl_id entered in the field\n",
    "    Look for all the bioactivity in ChEMBL for this target. Restricted to data with pchembl values (-log(IC50, Ki, Kd, EC50...))\n",
    "    Apply several sanity filters to keep only high confidence data\n",
    "    ouput: dataframe with all the activities that pass the check\n",
    "    '''\n",
    "    \n",
    "    if argument.kwargs['chembl_id'] == '':\n",
    "        target_id = target_selection.value\n",
    "    else:\n",
    "        target_id = argument.kwargs['chembl_id']\n",
    "    \n",
    "    # Create an activity query\n",
    "    activities = new_client.activity\n",
    "\n",
    "    # Select only activities with a pchembl_value (-log(IC50, Ki, Kd, EC50...).\n",
    "    # We also use the chembl flags to remove the duplicates and the records where there is a validity comment\n",
    "    response = activities.filter(target_chembl_id=target_id, pchembl_value__isnull=False,\\\n",
    "                                 potential_duplicate=False, data_validity_comment__isnull=True )\n",
    "\n",
    "    # create a dataframe with the activity data\n",
    "    df_activities = pd.DataFrame(response)\n",
    "\n",
    "    # create an assay query\n",
    "    assays = new_client.assay\n",
    "    # select assays.\n",
    "    response = assays.filter(assay_chembl_id__in=list(df_activities.assay_chembl_id.unique()))\n",
    "\n",
    "    # create a dataframe with the assay data\n",
    "    df_assays = pd.DataFrame(response)\n",
    "\n",
    "    # keep only the assays where the link between the protein target and the assay is direct\n",
    "    df_assays = df_assays[df_assays.confidence_score==9]\n",
    "\n",
    "    df_activities = df_activities[df_activities.assay_chembl_id.isin(df_assays.assay_chembl_id)]\n",
    "    df_activities = df_activities.astype({'pchembl_value':float, 'standard_value':float})\n",
    "\n",
    "    # keep only the columns you need\n",
    "    df_res = df_activities[['assay_chembl_id','assay_description','parent_molecule_chembl_id','molecule_chembl_id','canonical_smiles','pchembl_value',\\\n",
    "                   'standard_type','standard_relation','standard_value','standard_units','target_pref_name',\\\n",
    "                   'target_chembl_id', 'target_organism']]\n",
    "    print(f'{df_res.shape[0]} datapoint were found')\n",
    "    return(df_res)\n",
    "\n",
    "def remove_duplicates(df, do):\n",
    "    '''\n",
    "    if keep==True, remove duplicated data points\n",
    "    based on all the values availables for a given compound on a given target,\n",
    "    if the standard deviation < 1, then calculate the median value\n",
    "    else don't keep the values\n",
    "    '''\n",
    "    if do:\n",
    "        df_res = pd.DataFrame.copy(df)\n",
    "        for cpd_id in df['parent_molecule_chembl_id'].unique():\n",
    "            std = df[df.parent_molecule_chembl_id==cpd_id]['pchembl_value'].std()\n",
    "            if std > 1:\n",
    "                df_res = df_res[df_res.parent_molecule_chembl_id!=cpd_id]\n",
    "        pchembl_median = df_res.groupby('parent_molecule_chembl_id')['pchembl_value'].median().reset_index()['pchembl_value']\n",
    "        df_res  = df_res.drop_duplicates(['parent_molecule_chembl_id'])\n",
    "        df_res = df_res.assign(pchembl_median=pchembl_median.values).drop('pchembl_value',axis=1)\n",
    "        return(df_res)\n",
    "    else:\n",
    "        return(df)\n",
    "\n",
    "def assay_summary(df):\n",
    "    aff = df[(df.assay_description.str.contains('affinity', case=False))]['assay_chembl_id'].to_list()\n",
    "    disp = df[(df.assay_description.str.contains('displacement', case=False))]['assay_chembl_id'].to_list()\n",
    "    inhi = df[(df.assay_description.str.contains('inhibition', case=False))]['assay_chembl_id'].to_list()\n",
    "    return(pd.DataFrame({'assay_type':['affinity','displacement','inhibition'], 'data':[len(aff),len(disp),len(inhi)]}))\n",
    "\n",
    "def write_sdf(data, smiles_column, id_column, output_name):\n",
    "    PandasTools.AddMoleculeColumnToFrame(data, smiles_column)\n",
    "\n",
    "    # Uncomment the two lines below if a NoneType error appears when executing WriteSDF\n",
    "    #     no_mol = data[data['ROMol'].isna()]\n",
    "    #     data.drop(no_mol.index, axis=0, inplace=True)\n",
    "\n",
    "    # add H\n",
    "    # data.loc[:,'ROMol'] = [Chem.AddHs(x) for x in data.loc[:,'ROMol'].values.tolist()]\n",
    "\n",
    "    PandasTools.WriteSDF(data, output_name, molColName='ROMol', properties=list(data.columns), idName=id_column)"
   ]
  },
  {
   "cell_type": "markdown",
   "metadata": {},
   "source": [
    "##  Download activities for a given protein target"
   ]
  },
  {
   "cell_type": "markdown",
   "metadata": {},
   "source": [
    "### Step 1: Looking for a target without have its ChEMBL id (ChEMBL id is known, go to [step 2](#Step-2))"
   ]
  },
  {
   "cell_type": "code",
   "execution_count": 5,
   "metadata": {},
   "outputs": [
    {
     "data": {
      "application/vnd.jupyter.widget-view+json": {
       "model_id": "e35459c7772c4ad5b839c32bada73583",
       "version_major": 2,
       "version_minor": 0
      },
      "text/plain": [
       "interactive(children=(Text(value='', description='protein'), Output()), _dom_classes=('widget-interact',))"
      ]
     },
     "metadata": {},
     "output_type": "display_data"
    }
   ],
   "source": [
    "def f(protein):\n",
    "    return protein\n",
    "target_argument = w.interactive(f, protein='')\n",
    "target_argument"
   ]
  },
  {
   "cell_type": "code",
   "execution_count": 26,
   "metadata": {},
   "outputs": [
    {
     "data": {
      "text/html": [
       "<div>\n",
       "<style scoped>\n",
       "    .dataframe tbody tr th:only-of-type {\n",
       "        vertical-align: middle;\n",
       "    }\n",
       "\n",
       "    .dataframe tbody tr th {\n",
       "        vertical-align: top;\n",
       "    }\n",
       "\n",
       "    .dataframe thead th {\n",
       "        text-align: right;\n",
       "    }\n",
       "</style>\n",
       "<table border=\"1\" class=\"dataframe\">\n",
       "  <thead>\n",
       "    <tr style=\"text-align: right;\">\n",
       "      <th></th>\n",
       "      <th>pref_name</th>\n",
       "      <th>target_chembl_id</th>\n",
       "      <th>organism</th>\n",
       "    </tr>\n",
       "  </thead>\n",
       "  <tbody>\n",
       "    <tr>\n",
       "      <th>0</th>\n",
       "      <td>Serotonin 2b (5-HT2b) receptor</td>\n",
       "      <td>CHEMBL1833</td>\n",
       "      <td>Homo sapiens</td>\n",
       "    </tr>\n",
       "  </tbody>\n",
       "</table>\n",
       "</div>"
      ],
      "text/plain": [
       "                        pref_name target_chembl_id      organism\n",
       "0  Serotonin 2b (5-HT2b) receptor       CHEMBL1833  Homo sapiens"
      ]
     },
     "execution_count": 26,
     "metadata": {},
     "output_type": "execute_result"
    }
   ],
   "source": [
    "targets = find_target_in_chembl(target_argument, species='Homo sapiens')\n",
    "targets"
   ]
  },
  {
   "cell_type": "code",
   "execution_count": 27,
   "metadata": {},
   "outputs": [
    {
     "name": "stdout",
     "output_type": "stream",
     "text": [
      "Select the protein of interest from the list below\n"
     ]
    },
    {
     "data": {
      "application/vnd.jupyter.widget-view+json": {
       "model_id": "0685734bce1145d48022def5b5de932e",
       "version_major": 2,
       "version_minor": 0
      },
      "text/plain": [
       "Select(description='Targets', options=(('Serotonin 2b (5-HT2b) receptor', 'CHEMBL1833'),), value='CHEMBL1833')"
      ]
     },
     "metadata": {},
     "output_type": "display_data"
    }
   ],
   "source": [
    "target_selection = w.Select(\n",
    "    options=[val for val in zip(targets['pref_name'],targets['target_chembl_id'])],\n",
    "    description='Targets',\n",
    "    disabled=False\n",
    ")\n",
    "print('Select the protein of interest from the list below')\n",
    "target_selection"
   ]
  },
  {
   "cell_type": "markdown",
   "metadata": {},
   "source": [
    "### Step 2:  Looking for a target by ChEMBL id (written CHEMBL1234)\n",
    "### Ignore if you followed step 1"
   ]
  },
  {
   "cell_type": "code",
   "execution_count": 8,
   "metadata": {},
   "outputs": [
    {
     "data": {
      "application/vnd.jupyter.widget-view+json": {
       "model_id": "010c72b047254f79ac445cb993329153",
       "version_major": 2,
       "version_minor": 0
      },
      "text/plain": [
       "interactive(children=(Text(value='', description='chembl_id'), Output()), _dom_classes=('widget-interact',))"
      ]
     },
     "metadata": {},
     "output_type": "display_data"
    }
   ],
   "source": [
    "def f(chembl_id):\n",
    "    return chembl_id\n",
    "chemblid_argument = w.interactive(f, chembl_id='')\n",
    "chemblid_argument"
   ]
  },
  {
   "cell_type": "markdown",
   "metadata": {},
   "source": [
    "### Step 3: Retrieve the activity data in ChEMBL "
   ]
  },
  {
   "cell_type": "code",
   "execution_count": 32,
   "metadata": {},
   "outputs": [
    {
     "ename": "HttpApplicationError",
     "evalue": "Error for url https://www.ebi.ac.uk/chembl/api/data/activity.json, server response: <!doctype html>\r\n<!-- paulirish.com/2008/conditional-stylesheets-vs-css-hacks-answer-neither/ -->\r\n<!--[if lt IE 7]> <html class=\"no-js ie6 oldie\" lang=\"en\"> <![endif]-->\r\n<!--[if IE 7]>    <html class=\"no-js ie7 oldie\" lang=\"en\"> <![endif]-->\r\n<!--[if IE 8]>    <html class=\"no-js ie8 oldie\" lang=\"en\"> <![endif]-->\r\n<!-- Consider adding an manifest.appcache: h5bp.com/d/Offline -->\r\n<!--[if gt IE 8]><!--> <html class=\"no-js\" lang=\"en\"> <!--<![endif]-->\r\n<head>\r\n    <meta charset=\"utf-8\">\r\n\r\n    <!-- Use the .htaccess and remove these lines to avoid edge case issues.\r\n More info: h5bp.com/b/378 -->\r\n    <!-- <meta http-equiv=\"X-UA-Compatible\" content=\"IE=edge,chrome=1\"> --> <!-- Not yet implemented -->\r\n\r\n    <title>Server error &lt; EMBL-EBI</title>\r\n    <meta name=\"description\" content=\"EMBL-EBI\"><!-- Describe what this page is about -->\r\n    <meta name=\"keywords\" content=\"bioinformatics, europe, institute\"><!-- A few keywords that relate to the content of THIS PAGE (not the whol project) -->\r\n    <meta name=\"author\" content=\"EMBL-EBI\"><!-- Your [project-name] here -->\r\n\r\n    <!-- Mobile viewport optimized: j.mp/bplateviewport -->\r\n    <meta name=\"viewport\" content=\"width=device-width,initial-scale=1\">\r\n\r\n    <!-- Place favicon.ico and apple-touch-icon.png in the root directory: mathiasbynens.be/notes/touch-icons -->\r\n\r\n    <!-- CSS: implied media=all -->\r\n    <!-- CSS concatenated and minified via ant build script-->\r\n    <link rel=\"stylesheet\" href=\"//www.ebi.ac.uk/web_guidelines/css/compliance/develop/boilerplate-style.css\">\r\n    <link rel=\"stylesheet\" href=\"//www.ebi.ac.uk/web_guidelines/css/compliance/develop/ebi-global.css\" type=\"text/css\" media=\"screen\">\r\n    <link rel=\"stylesheet\" href=\"//www.ebi.ac.uk/web_guidelines/css/compliance/develop/ebi-visual.css\" type=\"text/css\" media=\"screen\">\r\n    <link rel=\"stylesheet\" href=\"//www.ebi.ac.uk/web_guidelines/css/compliance/develop/984-24-col-fluid.css\" type=\"text/css\" media=\"screen\">\r\n\r\n    <!-- you can replace this with [projectname]-colours.css. See http://frontier.ebi.ac.uk/web/style/colour for details of how to do this -->\r\n    <!-- also inform ES so we can host your colour palette file -->\r\n    <link rel=\"stylesheet\" href=\"//www.ebi.ac.uk/web_guidelines/css/compliance/develop/embl-petrol-colours.css\" type=\"text/css\" media=\"screen\">\r\n\r\n    <!-- for production the above can be replaced with -->\r\n    <!--\r\n    <link rel=\"stylesheet\" href=\"//www.ebi.ac.uk/web_guidelines/css/compliance/mini/ebi-fluid-embl.css\">\r\n    -->\r\n\r\n    \r\n    <!-- end CSS-->\r\n\r\n        \r\n    <!-- All JavaScript at the bottom, except for Modernizr / Respond.\r\nModernizr enables HTML5 elements & feature detects; Respond is a polyfill for min/max-width CSS3 Media Queries\r\nFor optimal performance, use a custom Modernizr build: www.modernizr.com/download/ -->\r\n\r\n    <!-- Full build -->\r\n    <!-- <script src=\"//www.ebi.ac.uk/web_guidelines/js/libs/modernizr.minified.2.1.6.js\"></script> -->\r\n\r\n    <!-- custom build (lacks most of the \"advanced\" HTML5 support -->\r\n    <script src=\"//www.ebi.ac.uk/web_guidelines/js/libs/modernizr.custom.49274.js\"></script>\r\n\r\n</head>\r\n\r\n<body class=\"level1 page-error\"><!-- add any of your classes or IDs -->\r\n<div id=\"skip-to\">\r\n    <ul>\r\n        <li><a href=\"#content\">Skip to main content</a></li>\r\n        <li><a href=\"#local-nav\">Skip to local navigation</a></li>\r\n        <li><a href=\"#global-nav\">Skip to EBI global navigation menu</a></li>\r\n        <li><a href=\"#global-nav-expanded\">Skip to expanded EBI global navigation menu (includes all sub-sections)</a></li>\r\n    </ul>\r\n</div>\r\n\r\n<div id=\"wrapper\" class=\"container_24\">\r\n    <header>\r\n                                <div id=\"global-masthead\" class=\"masthead grid_24\">\r\n            <!--This has to be one line and no newline characters-->\r\n            <a href=\"//www.ebi.ac.uk/\" title=\"Go to the EMBL-EBI homepage\"><img src=\"//www.ebi.ac.uk/web_guidelines/images/logos/EMBL-EBI/EMBL_EBI_Logo_white.png\" alt=\"EMBL European Bioinformatics Institute\"></a>\r\n\r\n            <nav>\r\n                <ul id=\"global-nav\">\r\n                    <!-- set active class as appropriate -->\r\n                                        <li id=\"services\" class=\" first \"><a href=\"//www.ebi.ac.uk/services\" title=\"Services\">Services</a></li>\r\n                                        <li id=\"research\" class=\"\"><a href=\"//www.ebi.ac.uk/research\" title=\"Research\">Research</a></li>\r\n                                        <li id=\"training\" class=\"\"><a href=\"//www.ebi.ac.uk/training\" title=\"Training\">Training</a></li>\r\n                                        <li id=\"industry\" class=\"\"><a href=\"//www.ebi.ac.uk/industry\" title=\"Industry\">Industry</a></li>\r\n                                        <li id=\"about\" class=\" last\"><a href=\"//www.ebi.ac.uk/about\" title=\"About us\">About us</a></li>\r\n                                    </ul>\r\n            </nav>\r\n\r\n        </div>\r\n                                <div id=\"local-masthead\" class=\"masthead grid_24 nomenu\">\r\n\r\n            <!-- local-title -->\r\n            <!-- NB: for additional title style patterns, see http://frontier.ebi.ac.uk/web/style/patterns -->\r\n\r\n        <div class=\"\" id=\"local-title\">\r\n                                                                    <h1><a href=\"/\" title=\"Back to Server error homepage\">Server error</a></h1>\r\n                                            </div>\r\n\r\n        <!-- /local-title -->\r\n\r\n        \r\n        \r\n\r\n</div>\r\n</header>\r\n\r\n<div id=\"content\" role=\"main\" class=\"grid_24 clearfix\">\r\n        <!-- Example layout containers -->\r\n    <section>\r\n        <section class=\"grid_24\">\r\n          \t\t\t                        \t\t\t\t\t\t\t\t\t\t\r\n              \r\n    \r\n  <div class=\"content\">\r\n    <div>\r\n\r\n  \r\n      \r\n  \r\n  <div class=\"content\">\r\n    <div>\r\n    <div>\r\n          <div>\r\n<h2 class=\"alert\">Something has gone wrong with our web server</h2>\r\n<p>Our web server says this is a <span class=\"alert\">500 internal server error</span>: the request cannot be carried out by the server.<br />\r\nThis problem means that the service you are trying to access is currently unavailable. We're very sorry.</p>\r\n<p>Please try again but if it keeps happening, you can <a fix=\"h-\" href=\"//www.ebi.ac.uk/support\">contact us</a> and we will try to help you.</p>\r\n</div>\r\n      </div>\r\n</div>\r\n  </div>\r\n\r\n  \r\n  \r\n</div>\r\n  </div>\r\n\r\n\r\n    \r\n  <div class=\"content\">\r\n    <form id=\"ebi_search\" action=\"/ebisearch/search.ebi\">\r\n  <fieldset><legend><span>Explore the EBI:</span></legend>\r\n    <input id=\"query\" title=\"EB-eye Search\" tabindex=\"1\" type=\"text\" name=\"query\" value=\"\" size=\"35\" maxlength=\"2048\" style=\"width: 80%\" /><input id=\"search_submit\" class=\"submit\" tabindex=\"2\" type=\"submit\" value=\"Search\" name=\"submit\" /><input id=\"allebi\" type=\"hidden\" name=\"db\" value=\"allebi\" checked=\"checked\" /><input type=\"hidden\" name=\"requestFrom\" value=\"ebi_error\" /><div>\r\n     <p id=\"example\">Examples: <a href=\"/ebisearch/search.ebi?db=allebi&amp;requestFrom=ebi_error&amp;query=blast\">blast</a>, <a href=\"/ebisearch/search.ebi?db=allebi&amp;query=keratin&amp;requestFrom=ebi_error\">keratin</a>, <a href=\"/ebisearch/search.ebi?db=allebi&amp;query=bfl1&amp;requestFrom=ebi_error\">bfl1</a>...</p>\r\n    </div>\r\n  </fieldset></form>  </div>\r\n\r\n\t\t\t\t\t\t\t\t\t\t\r\n      \t\t\t\t\t\t\t\t\t\t\r\n\t\t</section>    </section>\r\n\r\n        <!-- End example layout containers -->\r\n\r\n</div>\r\n\r\n<footer>\r\n\r\n    <!-- Optional local footer (insert citation / project-specific copyright / etc here -->\r\n        <!--\r\n        <div id=\"local-footer\" class=\"grid_24 clearfix\">\r\n      <p>How to reference this page: ...</p>\r\n    </div>\r\n        -->\r\n        <!-- End optional local footer -->\r\n        \r\n    <div id=\"global-footer\" class=\"grid_24\">\r\n\r\n        <nav id=\"global-nav-expanded\">\r\n\r\n            <div class=\"grid_4 alpha\">\r\n                <h3 class=\"embl-ebi\"><a href=\"//www.ebi.ac.uk/\" title=\"EMBL-EBI\">EMBL-EBI</a></h3>\r\n            </div>\r\n\r\n            <div class=\"grid_4\">\r\n                <h3 class=\"services\"><a href=\"//www.ebi.ac.uk/services\">Services</a></h3>\r\n            </div>\r\n\r\n            <div class=\"grid_4\">\r\n                <h3 class=\"research\"><a href=\"//www.ebi.ac.uk/research\">Research</a></h3>\r\n            </div>\r\n\r\n            <div class=\"grid_4\">\r\n                <h3 class=\"training\"><a href=\"//www.ebi.ac.uk/training\">Training</a></h3>\r\n            </div>\r\n\r\n            <div class=\"grid_4\">\r\n                <h3 class=\"industry\"><a href=\"//www.ebi.ac.uk/industry\">Industry</a></h3>\r\n            </div>\r\n\r\n            <div class=\"grid_4 omega\">\r\n                <h3 class=\"about\"><a href=\"//www.ebi.ac.uk/about\">About us</a></h3>\r\n            </div>\r\n\r\n        </nav>\r\n\r\n        <section id=\"ebi-footer-meta\">\r\n            <p class=\"address\">EMBL-EBI, Wellcome Trust Genome Campus, Hinxton, Cambridgeshire, CB10 1SD, UK &nbsp; &nbsp; +44 (0)1223 49 44 44</p>\r\n            <p class=\"legal\">Copyright &copy; EMBL-EBI 2013 | EBI is an Outstation of the <a href=\"http://www.embl.org\">European Molecular Biology Laboratory</a> | <a href=\"/about/privacy\">Privacy</a> | <a href=\"/about/cookies\">Cookies</a> | <a href=\"/about/terms-of-use\">Terms of use</a></p>\r\n        </section>\r\n\r\n    </div>\r\n        \r\n</footer>\r\n</div> <!--! end of #wrapper -->\r\n\r\n\r\n<!-- JavaScript at the bottom for fast page loading -->\r\n\r\n<!-- Grab Google CDN's jQuery, with a protocol relative URL; fall back to local if offline -->\r\n<!--\r\n<script src=\"//ajax.googleapis.com/ajax/libs/jquery/1.6.2/jquery.min.js\"></script>\r\n<script>window.jQuery || document.write('<script src=\"../js/libs/jquery-1.6.2.min.js\"><\\/script>')</script>\r\n-->\r\n\r\n\r\n<!-- Your custom JavaScript file can go here... change names accordingly -->\r\n<script defer=\"defer\" src=\"//www.ebi.ac.uk/web_guidelines/js/cookiebanner.js\"></script>\r\n<script defer=\"defer\" src=\"//www.ebi.ac.uk/web_guidelines/js/foot.js\"></script>\r\n<!-- end scripts-->\r\n\r\n<!-- Google Analytics details... -->\r\n<!-- Change UA-XXXXX-X to be your site's ID -->\r\n<!--\r\n<script>\r\n  window._gaq = [['_setAccount','UAXXXXXXXX1'],['_trackPageview'],['_trackPageLoadTime']];\r\n  Modernizr.load({\r\n    load: ('https:' == location.protocol ? '//ssl' : '//www') + '.google-analytics.com/ga.js'\r\n  });\r\n</script>\r\n-->\r\n\r\n\r\n<!-- Prompt IE 6 users to install Chrome Frame. Remove this if you want to support IE 6.\r\nchromium.org/developers/how-tos/chrome-frame-getting-started -->\r\n<!--[if lt IE 7 ]>\r\n<script src=\"//ajax.googleapis.com/ajax/libs/chrome-frame/1.0.3/CFInstall.min.js\"></script>\r\n<script>window.attachEvent('onload',function(){CFInstall.check({mode:'overlay'})})</script>\r\n<![endif]-->\r\n\r\n\r\n</body>\r\n</html>\r\n",
     "output_type": "error",
     "traceback": [
      "\u001b[0;31m---------------------------------------------------------------------------\u001b[0m",
      "\u001b[0;31mHttpApplicationError\u001b[0m                      Traceback (most recent call last)",
      "\u001b[0;32m/var/folders/sq/366j0cvs7pj1xp1jbft5d5nd6wcrt4/T/ipykernel_33319/1287938494.py\u001b[0m in \u001b[0;36m<module>\u001b[0;34m\u001b[0m\n\u001b[0;32m----> 1\u001b[0;31m \u001b[0mdf_activities\u001b[0m \u001b[0;34m=\u001b[0m \u001b[0mfind_activity_data\u001b[0m\u001b[0;34m(\u001b[0m\u001b[0mtarget_selection\u001b[0m\u001b[0;34m,\u001b[0m \u001b[0mchemblid_argument\u001b[0m\u001b[0;34m)\u001b[0m\u001b[0;34m\u001b[0m\u001b[0;34m\u001b[0m\u001b[0m\n\u001b[0m",
      "\u001b[0;32m/var/folders/sq/366j0cvs7pj1xp1jbft5d5nd6wcrt4/T/ipykernel_33319/4017301960.py\u001b[0m in \u001b[0;36mfind_activity_data\u001b[0;34m(target_selection, argument)\u001b[0m\n\u001b[1;32m     36\u001b[0m \u001b[0;34m\u001b[0m\u001b[0m\n\u001b[1;32m     37\u001b[0m     \u001b[0;31m# create a dataframe with the activity data\u001b[0m\u001b[0;34m\u001b[0m\u001b[0;34m\u001b[0m\u001b[0;34m\u001b[0m\u001b[0m\n\u001b[0;32m---> 38\u001b[0;31m     \u001b[0mdf_activities\u001b[0m \u001b[0;34m=\u001b[0m \u001b[0mpd\u001b[0m\u001b[0;34m.\u001b[0m\u001b[0mDataFrame\u001b[0m\u001b[0;34m(\u001b[0m\u001b[0mresponse\u001b[0m\u001b[0;34m)\u001b[0m\u001b[0;34m\u001b[0m\u001b[0;34m\u001b[0m\u001b[0m\n\u001b[0m\u001b[1;32m     39\u001b[0m \u001b[0;34m\u001b[0m\u001b[0m\n\u001b[1;32m     40\u001b[0m     \u001b[0;31m# create an assay query\u001b[0m\u001b[0;34m\u001b[0m\u001b[0;34m\u001b[0m\u001b[0;34m\u001b[0m\u001b[0m\n",
      "\u001b[0;32m~/opt/miniconda3/envs/fall_2020/lib/python3.7/site-packages/pandas/core/frame.py\u001b[0m in \u001b[0;36m__init__\u001b[0;34m(self, data, index, columns, dtype, copy)\u001b[0m\n\u001b[1;32m    500\u001b[0m         \u001b[0;32melif\u001b[0m \u001b[0misinstance\u001b[0m\u001b[0;34m(\u001b[0m\u001b[0mdata\u001b[0m\u001b[0;34m,\u001b[0m \u001b[0mabc\u001b[0m\u001b[0;34m.\u001b[0m\u001b[0mIterable\u001b[0m\u001b[0;34m)\u001b[0m \u001b[0;32mand\u001b[0m \u001b[0;32mnot\u001b[0m \u001b[0misinstance\u001b[0m\u001b[0;34m(\u001b[0m\u001b[0mdata\u001b[0m\u001b[0;34m,\u001b[0m \u001b[0;34m(\u001b[0m\u001b[0mstr\u001b[0m\u001b[0;34m,\u001b[0m \u001b[0mbytes\u001b[0m\u001b[0;34m)\u001b[0m\u001b[0;34m)\u001b[0m\u001b[0;34m:\u001b[0m\u001b[0;34m\u001b[0m\u001b[0;34m\u001b[0m\u001b[0m\n\u001b[1;32m    501\u001b[0m             \u001b[0;32mif\u001b[0m \u001b[0;32mnot\u001b[0m \u001b[0misinstance\u001b[0m\u001b[0;34m(\u001b[0m\u001b[0mdata\u001b[0m\u001b[0;34m,\u001b[0m \u001b[0;34m(\u001b[0m\u001b[0mabc\u001b[0m\u001b[0;34m.\u001b[0m\u001b[0mSequence\u001b[0m\u001b[0;34m,\u001b[0m \u001b[0mExtensionArray\u001b[0m\u001b[0;34m)\u001b[0m\u001b[0;34m)\u001b[0m\u001b[0;34m:\u001b[0m\u001b[0;34m\u001b[0m\u001b[0;34m\u001b[0m\u001b[0m\n\u001b[0;32m--> 502\u001b[0;31m                 \u001b[0mdata\u001b[0m \u001b[0;34m=\u001b[0m \u001b[0mlist\u001b[0m\u001b[0;34m(\u001b[0m\u001b[0mdata\u001b[0m\u001b[0;34m)\u001b[0m\u001b[0;34m\u001b[0m\u001b[0;34m\u001b[0m\u001b[0m\n\u001b[0m\u001b[1;32m    503\u001b[0m             \u001b[0;32mif\u001b[0m \u001b[0mlen\u001b[0m\u001b[0;34m(\u001b[0m\u001b[0mdata\u001b[0m\u001b[0;34m)\u001b[0m \u001b[0;34m>\u001b[0m \u001b[0;36m0\u001b[0m\u001b[0;34m:\u001b[0m\u001b[0;34m\u001b[0m\u001b[0;34m\u001b[0m\u001b[0m\n\u001b[1;32m    504\u001b[0m                 \u001b[0;32mif\u001b[0m \u001b[0mis_dataclass\u001b[0m\u001b[0;34m(\u001b[0m\u001b[0mdata\u001b[0m\u001b[0;34m[\u001b[0m\u001b[0;36m0\u001b[0m\u001b[0;34m]\u001b[0m\u001b[0;34m)\u001b[0m\u001b[0;34m:\u001b[0m\u001b[0;34m\u001b[0m\u001b[0;34m\u001b[0m\u001b[0m\n",
      "\u001b[0;32m~/opt/miniconda3/envs/fall_2020/lib/python3.7/site-packages/chembl_webresource_client/query_set.py\u001b[0m in \u001b[0;36m__next__\u001b[0;34m(self)\u001b[0m\n\u001b[1;32m    125\u001b[0m \u001b[0;34m\u001b[0m\u001b[0m\n\u001b[1;32m    126\u001b[0m     \u001b[0;32mdef\u001b[0m \u001b[0m__next__\u001b[0m\u001b[0;34m(\u001b[0m\u001b[0mself\u001b[0m\u001b[0;34m)\u001b[0m\u001b[0;34m:\u001b[0m\u001b[0;34m\u001b[0m\u001b[0;34m\u001b[0m\u001b[0m\n\u001b[0;32m--> 127\u001b[0;31m         \u001b[0;32mreturn\u001b[0m \u001b[0mself\u001b[0m\u001b[0;34m.\u001b[0m\u001b[0mnext\u001b[0m\u001b[0;34m(\u001b[0m\u001b[0;34m)\u001b[0m\u001b[0;34m\u001b[0m\u001b[0;34m\u001b[0m\u001b[0m\n\u001b[0m\u001b[1;32m    128\u001b[0m \u001b[0;34m\u001b[0m\u001b[0m\n\u001b[1;32m    129\u001b[0m \u001b[0;31m#-----------------------------------------------------------------------------------------------------------------------\u001b[0m\u001b[0;34m\u001b[0m\u001b[0;34m\u001b[0m\u001b[0;34m\u001b[0m\u001b[0m\n",
      "\u001b[0;32m~/opt/miniconda3/envs/fall_2020/lib/python3.7/site-packages/chembl_webresource_client/query_set.py\u001b[0m in \u001b[0;36mnext\u001b[0;34m(self)\u001b[0m\n\u001b[1;32m    113\u001b[0m             \u001b[0mself\u001b[0m\u001b[0;34m.\u001b[0m\u001b[0mchunk\u001b[0m \u001b[0;34m=\u001b[0m \u001b[0mself\u001b[0m\u001b[0;34m.\u001b[0m\u001b[0mquery\u001b[0m\u001b[0;34m.\u001b[0m\u001b[0mget_page\u001b[0m\u001b[0;34m(\u001b[0m\u001b[0;34m)\u001b[0m\u001b[0;34m\u001b[0m\u001b[0;34m\u001b[0m\u001b[0m\n\u001b[1;32m    114\u001b[0m         \u001b[0;32mif\u001b[0m \u001b[0;32mnot\u001b[0m \u001b[0mself\u001b[0m\u001b[0;34m.\u001b[0m\u001b[0mchunk\u001b[0m \u001b[0;32mor\u001b[0m \u001b[0mself\u001b[0m\u001b[0;34m.\u001b[0m\u001b[0mcurrent_index\u001b[0m \u001b[0;34m>=\u001b[0m \u001b[0mlen\u001b[0m\u001b[0;34m(\u001b[0m\u001b[0mself\u001b[0m\u001b[0;34m.\u001b[0m\u001b[0mchunk\u001b[0m\u001b[0;34m)\u001b[0m\u001b[0;34m:\u001b[0m\u001b[0;34m\u001b[0m\u001b[0;34m\u001b[0m\u001b[0m\n\u001b[0;32m--> 115\u001b[0;31m             \u001b[0mself\u001b[0m\u001b[0;34m.\u001b[0m\u001b[0mchunk\u001b[0m \u001b[0;34m=\u001b[0m \u001b[0mself\u001b[0m\u001b[0;34m.\u001b[0m\u001b[0mquery\u001b[0m\u001b[0;34m.\u001b[0m\u001b[0mnext_page\u001b[0m\u001b[0;34m(\u001b[0m\u001b[0;34m)\u001b[0m\u001b[0;34m\u001b[0m\u001b[0;34m\u001b[0m\u001b[0m\n\u001b[0m\u001b[1;32m    116\u001b[0m             \u001b[0;32mif\u001b[0m \u001b[0;32mnot\u001b[0m \u001b[0mself\u001b[0m\u001b[0;34m.\u001b[0m\u001b[0mchunk\u001b[0m\u001b[0;34m:\u001b[0m\u001b[0;34m\u001b[0m\u001b[0;34m\u001b[0m\u001b[0m\n\u001b[1;32m    117\u001b[0m                 \u001b[0;32mraise\u001b[0m \u001b[0mStopIteration\u001b[0m\u001b[0;34m\u001b[0m\u001b[0;34m\u001b[0m\u001b[0m\n",
      "\u001b[0;32m~/opt/miniconda3/envs/fall_2020/lib/python3.7/site-packages/chembl_webresource_client/url_query.py\u001b[0m in \u001b[0;36mnext_page\u001b[0;34m(self)\u001b[0m\n\u001b[1;32m    434\u001b[0m         \u001b[0mstart\u001b[0m \u001b[0;34m=\u001b[0m \u001b[0mself\u001b[0m\u001b[0;34m.\u001b[0m\u001b[0mstart\u001b[0m\u001b[0;34m\u001b[0m\u001b[0;34m\u001b[0m\u001b[0m\n\u001b[1;32m    435\u001b[0m         \u001b[0mself\u001b[0m\u001b[0;34m.\u001b[0m\u001b[0mcurrent_index\u001b[0m \u001b[0;34m=\u001b[0m \u001b[0mint\u001b[0m\u001b[0;34m(\u001b[0m\u001b[0mstart\u001b[0m \u001b[0;34m+\u001b[0m \u001b[0mself\u001b[0m\u001b[0;34m.\u001b[0m\u001b[0mlimit\u001b[0m \u001b[0;34m*\u001b[0m \u001b[0;34m(\u001b[0m\u001b[0mself\u001b[0m\u001b[0;34m.\u001b[0m\u001b[0mcurrent_page\u001b[0m \u001b[0;34m+\u001b[0m \u001b[0;36m1\u001b[0m\u001b[0;34m)\u001b[0m\u001b[0;34m)\u001b[0m\u001b[0;34m\u001b[0m\u001b[0;34m\u001b[0m\u001b[0m\n\u001b[0;32m--> 436\u001b[0;31m         \u001b[0;32mreturn\u001b[0m \u001b[0mself\u001b[0m\u001b[0;34m.\u001b[0m\u001b[0mget_page\u001b[0m\u001b[0;34m(\u001b[0m\u001b[0;34m)\u001b[0m\u001b[0;34m\u001b[0m\u001b[0;34m\u001b[0m\u001b[0m\n\u001b[0m\u001b[1;32m    437\u001b[0m \u001b[0;34m\u001b[0m\u001b[0m\n\u001b[1;32m    438\u001b[0m \u001b[0;31m# ----------------------------------------------------------------------------------------------------------------------\u001b[0m\u001b[0;34m\u001b[0m\u001b[0;34m\u001b[0m\u001b[0;34m\u001b[0m\u001b[0m\n",
      "\u001b[0;32m~/opt/miniconda3/envs/fall_2020/lib/python3.7/site-packages/chembl_webresource_client/url_query.py\u001b[0m in \u001b[0;36mget_page\u001b[0;34m(self)\u001b[0m\n\u001b[1;32m    394\u001b[0m             \u001b[0mself\u001b[0m\u001b[0;34m.\u001b[0m\u001b[0mlogger\u001b[0m\u001b[0;34m.\u001b[0m\u001b[0minfo\u001b[0m\u001b[0;34m(\u001b[0m\u001b[0;34m'From cache: {0}'\u001b[0m\u001b[0;34m.\u001b[0m\u001b[0mformat\u001b[0m\u001b[0;34m(\u001b[0m\u001b[0mres\u001b[0m\u001b[0;34m.\u001b[0m\u001b[0mfrom_cache\u001b[0m \u001b[0;32mif\u001b[0m \u001b[0mhasattr\u001b[0m\u001b[0;34m(\u001b[0m\u001b[0mres\u001b[0m\u001b[0;34m,\u001b[0m \u001b[0;34m'from_cache'\u001b[0m\u001b[0;34m)\u001b[0m \u001b[0;32melse\u001b[0m \u001b[0;32mFalse\u001b[0m\u001b[0;34m)\u001b[0m\u001b[0;34m)\u001b[0m\u001b[0;34m\u001b[0m\u001b[0;34m\u001b[0m\u001b[0m\n\u001b[1;32m    395\u001b[0m             \u001b[0;32mif\u001b[0m \u001b[0;32mnot\u001b[0m \u001b[0mres\u001b[0m\u001b[0;34m.\u001b[0m\u001b[0mok\u001b[0m\u001b[0;34m:\u001b[0m\u001b[0;34m\u001b[0m\u001b[0;34m\u001b[0m\u001b[0m\n\u001b[0;32m--> 396\u001b[0;31m                 \u001b[0mhandle_http_error\u001b[0m\u001b[0;34m(\u001b[0m\u001b[0mres\u001b[0m\u001b[0;34m)\u001b[0m\u001b[0;34m\u001b[0m\u001b[0;34m\u001b[0m\u001b[0m\n\u001b[0m\u001b[1;32m    397\u001b[0m             \u001b[0;32mif\u001b[0m \u001b[0mself\u001b[0m\u001b[0;34m.\u001b[0m\u001b[0mfrmt\u001b[0m \u001b[0;34m==\u001b[0m \u001b[0;34m'json'\u001b[0m\u001b[0;34m:\u001b[0m\u001b[0;34m\u001b[0m\u001b[0;34m\u001b[0m\u001b[0m\n\u001b[1;32m    398\u001b[0m                 \u001b[0mjson_data\u001b[0m \u001b[0;34m=\u001b[0m \u001b[0mres\u001b[0m\u001b[0;34m.\u001b[0m\u001b[0mjson\u001b[0m\u001b[0;34m(\u001b[0m\u001b[0;34m)\u001b[0m\u001b[0;34m\u001b[0m\u001b[0;34m\u001b[0m\u001b[0m\n",
      "\u001b[0;32m~/opt/miniconda3/envs/fall_2020/lib/python3.7/site-packages/chembl_webresource_client/http_errors.py\u001b[0m in \u001b[0;36mhandle_http_error\u001b[0;34m(request)\u001b[0m\n\u001b[1;32m    111\u001b[0m         \u001b[0mexception_class\u001b[0m \u001b[0;34m=\u001b[0m \u001b[0mstatus_to_exception\u001b[0m\u001b[0;34m.\u001b[0m\u001b[0mget\u001b[0m\u001b[0;34m(\u001b[0m\u001b[0mrequest\u001b[0m\u001b[0;34m.\u001b[0m\u001b[0mstatus_code\u001b[0m\u001b[0;34m,\u001b[0m \u001b[0mBaseHttpException\u001b[0m\u001b[0;34m)\u001b[0m\u001b[0;34m\u001b[0m\u001b[0;34m\u001b[0m\u001b[0m\n\u001b[1;32m    112\u001b[0m         \u001b[0;32mif\u001b[0m \u001b[0mrequest\u001b[0m\u001b[0;34m.\u001b[0m\u001b[0mtext\u001b[0m\u001b[0;34m:\u001b[0m\u001b[0;34m\u001b[0m\u001b[0;34m\u001b[0m\u001b[0m\n\u001b[0;32m--> 113\u001b[0;31m             \u001b[0;32mraise\u001b[0m \u001b[0mexception_class\u001b[0m\u001b[0;34m(\u001b[0m\u001b[0mrequest\u001b[0m\u001b[0;34m.\u001b[0m\u001b[0murl\u001b[0m\u001b[0;34m,\u001b[0m \u001b[0mrequest\u001b[0m\u001b[0;34m.\u001b[0m\u001b[0mtext\u001b[0m\u001b[0;34m)\u001b[0m\u001b[0;34m\u001b[0m\u001b[0;34m\u001b[0m\u001b[0m\n\u001b[0m\u001b[1;32m    114\u001b[0m         \u001b[0;32mraise\u001b[0m \u001b[0mexception_class\u001b[0m\u001b[0;34m(\u001b[0m\u001b[0mrequest\u001b[0m\u001b[0;34m.\u001b[0m\u001b[0murl\u001b[0m\u001b[0;34m,\u001b[0m \u001b[0mrequest\u001b[0m\u001b[0;34m.\u001b[0m\u001b[0mcontent\u001b[0m\u001b[0;34m)\u001b[0m\u001b[0;34m\u001b[0m\u001b[0;34m\u001b[0m\u001b[0m\n\u001b[1;32m    115\u001b[0m \u001b[0;34m\u001b[0m\u001b[0m\n",
      "\u001b[0;31mHttpApplicationError\u001b[0m: Error for url https://www.ebi.ac.uk/chembl/api/data/activity.json, server response: <!doctype html>\r\n<!-- paulirish.com/2008/conditional-stylesheets-vs-css-hacks-answer-neither/ -->\r\n<!--[if lt IE 7]> <html class=\"no-js ie6 oldie\" lang=\"en\"> <![endif]-->\r\n<!--[if IE 7]>    <html class=\"no-js ie7 oldie\" lang=\"en\"> <![endif]-->\r\n<!--[if IE 8]>    <html class=\"no-js ie8 oldie\" lang=\"en\"> <![endif]-->\r\n<!-- Consider adding an manifest.appcache: h5bp.com/d/Offline -->\r\n<!--[if gt IE 8]><!--> <html class=\"no-js\" lang=\"en\"> <!--<![endif]-->\r\n<head>\r\n    <meta charset=\"utf-8\">\r\n\r\n    <!-- Use the .htaccess and remove these lines to avoid edge case issues.\r\n More info: h5bp.com/b/378 -->\r\n    <!-- <meta http-equiv=\"X-UA-Compatible\" content=\"IE=edge,chrome=1\"> --> <!-- Not yet implemented -->\r\n\r\n    <title>Server error &lt; EMBL-EBI</title>\r\n    <meta name=\"description\" content=\"EMBL-EBI\"><!-- Describe what this page is about -->\r\n    <meta name=\"keywords\" content=\"bioinformatics, europe, institute\"><!-- A few keywords that relate to the content of THIS PAGE (not the whol project) -->\r\n    <meta name=\"author\" content=\"EMBL-EBI\"><!-- Your [project-name] here -->\r\n\r\n    <!-- Mobile viewport optimized: j.mp/bplateviewport -->\r\n    <meta name=\"viewport\" content=\"width=device-width,initial-scale=1\">\r\n\r\n    <!-- Place favicon.ico and apple-touch-icon.png in the root directory: mathiasbynens.be/notes/touch-icons -->\r\n\r\n    <!-- CSS: implied media=all -->\r\n    <!-- CSS concatenated and minified via ant build script-->\r\n    <link rel=\"stylesheet\" href=\"//www.ebi.ac.uk/web_guidelines/css/compliance/develop/boilerplate-style.css\">\r\n    <link rel=\"stylesheet\" href=\"//www.ebi.ac.uk/web_guidelines/css/compliance/develop/ebi-global.css\" type=\"text/css\" media=\"screen\">\r\n    <link rel=\"stylesheet\" href=\"//www.ebi.ac.uk/web_guidelines/css/compliance/develop/ebi-visual.css\" type=\"text/css\" media=\"screen\">\r\n    <link rel=\"stylesheet\" href=\"//www.ebi.ac.uk/web_guidelines/css/compliance/develop/984-24-col-fluid.css\" type=\"text/css\" media=\"screen\">\r\n\r\n    <!-- you can replace this with [projectname]-colours.css. See http://frontier.ebi.ac.uk/web/style/colour for details of how to do this -->\r\n    <!-- also inform ES so we can host your colour palette file -->\r\n    <link rel=\"stylesheet\" href=\"//www.ebi.ac.uk/web_guidelines/css/compliance/develop/embl-petrol-colours.css\" type=\"text/css\" media=\"screen\">\r\n\r\n    <!-- for production the above can be replaced with -->\r\n    <!--\r\n    <link rel=\"stylesheet\" href=\"//www.ebi.ac.uk/web_guidelines/css/compliance/mini/ebi-fluid-embl.css\">\r\n    -->\r\n\r\n    \r\n    <!-- end CSS-->\r\n\r\n        \r\n    <!-- All JavaScript at the bottom, except for Modernizr / Respond.\r\nModernizr enables HTML5 elements & feature detects; Respond is a polyfill for min/max-width CSS3 Media Queries\r\nFor optimal performance, use a custom Modernizr build: www.modernizr.com/download/ -->\r\n\r\n    <!-- Full build -->\r\n    <!-- <script src=\"//www.ebi.ac.uk/web_guidelines/js/libs/modernizr.minified.2.1.6.js\"></script> -->\r\n\r\n    <!-- custom build (lacks most of the \"advanced\" HTML5 support -->\r\n    <script src=\"//www.ebi.ac.uk/web_guidelines/js/libs/modernizr.custom.49274.js\"></script>\r\n\r\n</head>\r\n\r\n<body class=\"level1 page-error\"><!-- add any of your classes or IDs -->\r\n<div id=\"skip-to\">\r\n    <ul>\r\n        <li><a href=\"#content\">Skip to main content</a></li>\r\n        <li><a href=\"#local-nav\">Skip to local navigation</a></li>\r\n        <li><a href=\"#global-nav\">Skip to EBI global navigation menu</a></li>\r\n        <li><a href=\"#global-nav-expanded\">Skip to expanded EBI global navigation menu (includes all sub-sections)</a></li>\r\n    </ul>\r\n</div>\r\n\r\n<div id=\"wrapper\" class=\"container_24\">\r\n    <header>\r\n                                <div id=\"global-masthead\" class=\"masthead grid_24\">\r\n            <!--This has to be one line and no newline characters-->\r\n            <a href=\"//www.ebi.ac.uk/\" title=\"Go to the EMBL-EBI homepage\"><img src=\"//www.ebi.ac.uk/web_guidelines/images/logos/EMBL-EBI/EMBL_EBI_Logo_white.png\" alt=\"EMBL European Bioinformatics Institute\"></a>\r\n\r\n            <nav>\r\n                <ul id=\"global-nav\">\r\n                    <!-- set active class as appropriate -->\r\n                                        <li id=\"services\" class=\" first \"><a href=\"//www.ebi.ac.uk/services\" title=\"Services\">Services</a></li>\r\n                                        <li id=\"research\" class=\"\"><a href=\"//www.ebi.ac.uk/research\" title=\"Research\">Research</a></li>\r\n                                        <li id=\"training\" class=\"\"><a href=\"//www.ebi.ac.uk/training\" title=\"Training\">Training</a></li>\r\n                                        <li id=\"industry\" class=\"\"><a href=\"//www.ebi.ac.uk/industry\" title=\"Industry\">Industry</a></li>\r\n                                        <li id=\"about\" class=\" last\"><a href=\"//www.ebi.ac.uk/about\" title=\"About us\">About us</a></li>\r\n                                    </ul>\r\n            </nav>\r\n\r\n        </div>\r\n                                <div id=\"local-masthead\" class=\"masthead grid_24 nomenu\">\r\n\r\n            <!-- local-title -->\r\n            <!-- NB: for additional title style patterns, see http://frontier.ebi.ac.uk/web/style/patterns -->\r\n\r\n        <div class=\"\" id=\"local-title\">\r\n                                                                    <h1><a href=\"/\" title=\"Back to Server error homepage\">Server error</a></h1>\r\n                                            </div>\r\n\r\n        <!-- /local-title -->\r\n\r\n        \r\n        \r\n\r\n</div>\r\n</header>\r\n\r\n<div id=\"content\" role=\"main\" class=\"grid_24 clearfix\">\r\n        <!-- Example layout containers -->\r\n    <section>\r\n        <section class=\"grid_24\">\r\n          \t\t\t                        \t\t\t\t\t\t\t\t\t\t\r\n              \r\n    \r\n  <div class=\"content\">\r\n    <div>\r\n\r\n  \r\n      \r\n  \r\n  <div class=\"content\">\r\n    <div>\r\n    <div>\r\n          <div>\r\n<h2 class=\"alert\">Something has gone wrong with our web server</h2>\r\n<p>Our web server says this is a <span class=\"alert\">500 internal server error</span>: the request cannot be carried out by the server.<br />\r\nThis problem means that the service you are trying to access is currently unavailable. We're very sorry.</p>\r\n<p>Please try again but if it keeps happening, you can <a fix=\"h-\" href=\"//www.ebi.ac.uk/support\">contact us</a> and we will try to help you.</p>\r\n</div>\r\n      </div>\r\n</div>\r\n  </div>\r\n\r\n  \r\n  \r\n</div>\r\n  </div>\r\n\r\n\r\n    \r\n  <div class=\"content\">\r\n    <form id=\"ebi_search\" action=\"/ebisearch/search.ebi\">\r\n  <fieldset><legend><span>Explore the EBI:</span></legend>\r\n    <input id=\"query\" title=\"EB-eye Search\" tabindex=\"1\" type=\"text\" name=\"query\" value=\"\" size=\"35\" maxlength=\"2048\" style=\"width: 80%\" /><input id=\"search_submit\" class=\"submit\" tabindex=\"2\" type=\"submit\" value=\"Search\" name=\"submit\" /><input id=\"allebi\" type=\"hidden\" name=\"db\" value=\"allebi\" checked=\"checked\" /><input type=\"hidden\" name=\"requestFrom\" value=\"ebi_error\" /><div>\r\n     <p id=\"example\">Examples: <a href=\"/ebisearch/search.ebi?db=allebi&amp;requestFrom=ebi_error&amp;query=blast\">blast</a>, <a href=\"/ebisearch/search.ebi?db=allebi&amp;query=keratin&amp;requestFrom=ebi_error\">keratin</a>, <a href=\"/ebisearch/search.ebi?db=allebi&amp;query=bfl1&amp;requestFrom=ebi_error\">bfl1</a>...</p>\r\n    </div>\r\n  </fieldset></form>  </div>\r\n\r\n\t\t\t\t\t\t\t\t\t\t\r\n      \t\t\t\t\t\t\t\t\t\t\r\n\t\t</section>    </section>\r\n\r\n        <!-- End example layout containers -->\r\n\r\n</div>\r\n\r\n<footer>\r\n\r\n    <!-- Optional local footer (insert citation / project-specific copyright / etc here -->\r\n        <!--\r\n        <div id=\"local-footer\" class=\"grid_24 clearfix\">\r\n      <p>How to reference this page: ...</p>\r\n    </div>\r\n        -->\r\n        <!-- End optional local footer -->\r\n        \r\n    <div id=\"global-footer\" class=\"grid_24\">\r\n\r\n        <nav id=\"global-nav-expanded\">\r\n\r\n            <div class=\"grid_4 alpha\">\r\n                <h3 class=\"embl-ebi\"><a href=\"//www.ebi.ac.uk/\" title=\"EMBL-EBI\">EMBL-EBI</a></h3>\r\n            </div>\r\n\r\n            <div class=\"grid_4\">\r\n                <h3 class=\"services\"><a href=\"//www.ebi.ac.uk/services\">Services</a></h3>\r\n            </div>\r\n\r\n            <div class=\"grid_4\">\r\n                <h3 class=\"research\"><a href=\"//www.ebi.ac.uk/research\">Research</a></h3>\r\n            </div>\r\n\r\n            <div class=\"grid_4\">\r\n                <h3 class=\"training\"><a href=\"//www.ebi.ac.uk/training\">Training</a></h3>\r\n            </div>\r\n\r\n            <div class=\"grid_4\">\r\n                <h3 class=\"industry\"><a href=\"//www.ebi.ac.uk/industry\">Industry</a></h3>\r\n            </div>\r\n\r\n            <div class=\"grid_4 omega\">\r\n                <h3 class=\"about\"><a href=\"//www.ebi.ac.uk/about\">About us</a></h3>\r\n            </div>\r\n\r\n        </nav>\r\n\r\n        <section id=\"ebi-footer-meta\">\r\n            <p class=\"address\">EMBL-EBI, Wellcome Trust Genome Campus, Hinxton, Cambridgeshire, CB10 1SD, UK &nbsp; &nbsp; +44 (0)1223 49 44 44</p>\r\n            <p class=\"legal\">Copyright &copy; EMBL-EBI 2013 | EBI is an Outstation of the <a href=\"http://www.embl.org\">European Molecular Biology Laboratory</a> | <a href=\"/about/privacy\">Privacy</a> | <a href=\"/about/cookies\">Cookies</a> | <a href=\"/about/terms-of-use\">Terms of use</a></p>\r\n        </section>\r\n\r\n    </div>\r\n        \r\n</footer>\r\n</div> <!--! end of #wrapper -->\r\n\r\n\r\n<!-- JavaScript at the bottom for fast page loading -->\r\n\r\n<!-- Grab Google CDN's jQuery, with a protocol relative URL; fall back to local if offline -->\r\n<!--\r\n<script src=\"//ajax.googleapis.com/ajax/libs/jquery/1.6.2/jquery.min.js\"></script>\r\n<script>window.jQuery || document.write('<script src=\"../js/libs/jquery-1.6.2.min.js\"><\\/script>')</script>\r\n-->\r\n\r\n\r\n<!-- Your custom JavaScript file can go here... change names accordingly -->\r\n<script defer=\"defer\" src=\"//www.ebi.ac.uk/web_guidelines/js/cookiebanner.js\"></script>\r\n<script defer=\"defer\" src=\"//www.ebi.ac.uk/web_guidelines/js/foot.js\"></script>\r\n<!-- end scripts-->\r\n\r\n<!-- Google Analytics details... -->\r\n<!-- Change UA-XXXXX-X to be your site's ID -->\r\n<!--\r\n<script>\r\n  window._gaq = [['_setAccount','UAXXXXXXXX1'],['_trackPageview'],['_trackPageLoadTime']];\r\n  Modernizr.load({\r\n    load: ('https:' == location.protocol ? '//ssl' : '//www') + '.google-analytics.com/ga.js'\r\n  });\r\n</script>\r\n-->\r\n\r\n\r\n<!-- Prompt IE 6 users to install Chrome Frame. Remove this if you want to support IE 6.\r\nchromium.org/developers/how-tos/chrome-frame-getting-started -->\r\n<!--[if lt IE 7 ]>\r\n<script src=\"//ajax.googleapis.com/ajax/libs/chrome-frame/1.0.3/CFInstall.min.js\"></script>\r\n<script>window.attachEvent('onload',function(){CFInstall.check({mode:'overlay'})})</script>\r\n<![endif]-->\r\n\r\n\r\n</body>\r\n</html>\r\n"
     ]
    }
   ],
   "source": [
    "df_activities = find_activity_data(target_selection, chemblid_argument)"
   ]
  },
  {
   "cell_type": "markdown",
   "metadata": {},
   "source": [
    "#### Data endpoints available "
   ]
  },
  {
   "cell_type": "code",
   "execution_count": 10,
   "metadata": {
    "scrolled": true
   },
   "outputs": [
    {
     "data": {
      "text/html": [
       "<div>\n",
       "<style scoped>\n",
       "    .dataframe tbody tr th:only-of-type {\n",
       "        vertical-align: middle;\n",
       "    }\n",
       "\n",
       "    .dataframe tbody tr th {\n",
       "        vertical-align: top;\n",
       "    }\n",
       "\n",
       "    .dataframe thead th {\n",
       "        text-align: right;\n",
       "    }\n",
       "</style>\n",
       "<table border=\"1\" class=\"dataframe\">\n",
       "  <thead>\n",
       "    <tr style=\"text-align: right;\">\n",
       "      <th></th>\n",
       "      <th>data points</th>\n",
       "    </tr>\n",
       "  </thead>\n",
       "  <tbody>\n",
       "    <tr>\n",
       "      <th>IC50</th>\n",
       "      <td>2401</td>\n",
       "    </tr>\n",
       "    <tr>\n",
       "      <th>Ki</th>\n",
       "      <td>16</td>\n",
       "    </tr>\n",
       "    <tr>\n",
       "      <th>Kd</th>\n",
       "      <td>7</td>\n",
       "    </tr>\n",
       "    <tr>\n",
       "      <th>EC50</th>\n",
       "      <td>1</td>\n",
       "    </tr>\n",
       "  </tbody>\n",
       "</table>\n",
       "</div>"
      ],
      "text/plain": [
       "      data points\n",
       "IC50         2401\n",
       "Ki             16\n",
       "Kd              7\n",
       "EC50            1"
      ]
     },
     "execution_count": 10,
     "metadata": {},
     "output_type": "execute_result"
    }
   ],
   "source": [
    "df_endpoints = pd.DataFrame(df_activities.standard_type.value_counts()).rename({'standard_type':'data points'},axis=1)\n",
    "df_endpoints"
   ]
  },
  {
   "cell_type": "markdown",
   "metadata": {},
   "source": [
    "### Step 4: Based on the data retrieved, select the activity endpoint to use in the model.\n",
    "Multiple values can be selected with <kbd>shift</kbd> and/or <kbd>ctrl</kbd> (or <kbd>command</kbd>) pressed and mouse clicks or arrow keys."
   ]
  },
  {
   "cell_type": "code",
   "execution_count": 11,
   "metadata": {},
   "outputs": [
    {
     "data": {
      "application/vnd.jupyter.widget-view+json": {
       "model_id": "598c5b3b675649108d74f682e6ae631c",
       "version_major": 2,
       "version_minor": 0
      },
      "text/plain": [
       "SelectMultiple(description='Endpoints', options=('IC50', 'Ki', 'Kd', 'EC50'), value=())"
      ]
     },
     "metadata": {},
     "output_type": "display_data"
    }
   ],
   "source": [
    "endpoint_selection = w.SelectMultiple(\n",
    "    options=df_endpoints.index,\n",
    "    description='Endpoints',\n",
    "    disabled=False\n",
    ")\n",
    "endpoint_selection"
   ]
  },
  {
   "cell_type": "code",
   "execution_count": 12,
   "metadata": {},
   "outputs": [],
   "source": [
    "df_activities = df_activities[df_activities.standard_type.isin(endpoint_selection.value)]"
   ]
  },
  {
   "cell_type": "markdown",
   "metadata": {},
   "source": [
    "### Step 5: Should the duplicted value be removed? "
   ]
  },
  {
   "cell_type": "code",
   "execution_count": 13,
   "metadata": {},
   "outputs": [
    {
     "data": {
      "application/vnd.jupyter.widget-view+json": {
       "model_id": "81b2b79827f74d7d88dd846f2506a29d",
       "version_major": 2,
       "version_minor": 0
      },
      "text/plain": [
       "Select(description='remove duplicates?', options=(('Yes', True), ('No', False)), style=DescriptionStyle(descri…"
      ]
     },
     "metadata": {},
     "output_type": "display_data"
    }
   ],
   "source": [
    "duplicate_selection = w.Select(\n",
    "    options=[('Yes',True),('No',False)],\n",
    "#     value=['CHEMBL1862'],\n",
    "    description='remove duplicates?',\n",
    "    disabled=False,\n",
    "    style= {'description_width': 'initial'}\n",
    ")\n",
    "duplicate_selection"
   ]
  },
  {
   "cell_type": "code",
   "execution_count": 14,
   "metadata": {},
   "outputs": [],
   "source": [
    "df_activities = remove_duplicates(df_activities, duplicate_selection.value)"
   ]
  },
  {
   "cell_type": "markdown",
   "metadata": {},
   "source": [
    "### Step 6: Select the type of assays\n",
    "By defaults, assays are divided in 3 categories depending on whether their description contain certain words:\n",
    "- affinity assay\n",
    "- displacement assay\n",
    "- inhibition assay"
   ]
  },
  {
   "cell_type": "code",
   "execution_count": 15,
   "metadata": {},
   "outputs": [
    {
     "data": {
      "text/html": [
       "<div>\n",
       "<style scoped>\n",
       "    .dataframe tbody tr th:only-of-type {\n",
       "        vertical-align: middle;\n",
       "    }\n",
       "\n",
       "    .dataframe tbody tr th {\n",
       "        vertical-align: top;\n",
       "    }\n",
       "\n",
       "    .dataframe thead th {\n",
       "        text-align: right;\n",
       "    }\n",
       "</style>\n",
       "<table border=\"1\" class=\"dataframe\">\n",
       "  <thead>\n",
       "    <tr style=\"text-align: right;\">\n",
       "      <th></th>\n",
       "      <th>assay_type</th>\n",
       "      <th>data</th>\n",
       "    </tr>\n",
       "  </thead>\n",
       "  <tbody>\n",
       "    <tr>\n",
       "      <th>0</th>\n",
       "      <td>affinity</td>\n",
       "      <td>38</td>\n",
       "    </tr>\n",
       "    <tr>\n",
       "      <th>1</th>\n",
       "      <td>displacement</td>\n",
       "      <td>0</td>\n",
       "    </tr>\n",
       "    <tr>\n",
       "      <th>2</th>\n",
       "      <td>inhibition</td>\n",
       "      <td>2269</td>\n",
       "    </tr>\n",
       "  </tbody>\n",
       "</table>\n",
       "</div>"
      ],
      "text/plain": [
       "     assay_type  data\n",
       "0      affinity    38\n",
       "1  displacement     0\n",
       "2    inhibition  2269"
      ]
     },
     "execution_count": 15,
     "metadata": {},
     "output_type": "execute_result"
    }
   ],
   "source": [
    "df_assays = assay_summary(df_activities)\n",
    "df_assays"
   ]
  },
  {
   "cell_type": "code",
   "execution_count": 16,
   "metadata": {},
   "outputs": [
    {
     "data": {
      "application/vnd.jupyter.widget-view+json": {
       "model_id": "8ed3c4c7aafa42948350debc9cea3a02",
       "version_major": 2,
       "version_minor": 0
      },
      "text/plain": [
       "SelectMultiple(description='Assay types', options=('affinity', 'displacement', 'inhibition'), value=())"
      ]
     },
     "metadata": {},
     "output_type": "display_data"
    }
   ],
   "source": [
    "assay_selection = w.SelectMultiple(\n",
    "    options=df_assays.assay_type,\n",
    "    description='Assay types',\n",
    "    disabled=False\n",
    ")\n",
    "assay_selection"
   ]
  },
  {
   "cell_type": "code",
   "execution_count": 17,
   "metadata": {},
   "outputs": [],
   "source": [
    "df_activities = df_activities[df_activities.assay_description.str.contains('|'.join(assay_selection.value), case=False)]"
   ]
  },
  {
   "cell_type": "code",
   "execution_count": 18,
   "metadata": {},
   "outputs": [
    {
     "data": {
      "text/plain": [
       "(38, 13)"
      ]
     },
     "execution_count": 18,
     "metadata": {},
     "output_type": "execute_result"
    }
   ],
   "source": [
    "df_activities.shape"
   ]
  },
  {
   "cell_type": "markdown",
   "metadata": {},
   "source": [
    "### Step 6: Export data for Flame "
   ]
  },
  {
   "cell_type": "markdown",
   "metadata": {},
   "source": [
    "Adapted by Eric Marc and Manuel Pastor (UPF), 2021\n",
    "<br>Remove all the lines of this tables containing compounds without structure (the \"canonical_smiles\" is a na) and Write the SDFile"
   ]
  },
  {
   "cell_type": "code",
   "execution_count": 24,
   "metadata": {},
   "outputs": [],
   "source": [
    "df_activities.drop(df_activities[df_activities['canonical_smiles'].isna()].index, axis=0, inplace=True)\n",
    "write_sdf(df_activities, 'canonical_smiles', 'molecule_chembl_id', 'chembl_data.sdf')"
   ]
  },
  {
   "cell_type": "code",
   "execution_count": null,
   "metadata": {},
   "outputs": [],
   "source": []
  }
 ],
 "metadata": {
  "kernelspec": {
   "display_name": "Python 3 (ipykernel)",
   "language": "python",
   "name": "python3"
  },
  "language_info": {
   "codemirror_mode": {
    "name": "ipython",
    "version": 3
   },
   "file_extension": ".py",
   "mimetype": "text/x-python",
   "name": "python",
   "nbconvert_exporter": "python",
   "pygments_lexer": "ipython3",
   "version": "3.7.9"
  }
 },
 "nbformat": 4,
 "nbformat_minor": 4
}
